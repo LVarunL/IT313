{
  "cells": [
    {
      "cell_type": "code",
      "execution_count": 2,
      "metadata": {
        "id": "Locw_u_nXk9K"
      },
      "outputs": [],
      "source": [
        "### Keras and Tensorflow >2.0"
      ]
    },
    {
      "cell_type": "code",
      "execution_count": 3,
      "metadata": {
        "id": "2cnyZzxk4ZRh"
      },
      "outputs": [],
      "source": [
        "import pandas_datareader as pdr"
      ]
    },
    {
      "cell_type": "code",
      "execution_count": 4,
      "metadata": {
        "id": "DQ7R5ktPcyn4"
      },
      "outputs": [],
      "source": [
        "key = 'e80b457b8ddb56547ee91753f004584802eafc5c'"
      ]
    },
    {
      "cell_type": "code",
      "execution_count": 5,
      "metadata": {
        "colab": {
          "base_uri": "https://localhost:8080/"
        },
        "id": "Kg9z_MFWXfQF",
        "outputId": "2fbe0f51-fee0-42c7-b1f9-e305ba5ee471"
      },
      "outputs": [
        {
          "output_type": "stream",
          "name": "stderr",
          "text": [
            "<ipython-input-5-08157bf6935e>:1: FutureWarning: In a future version of pandas all arguments of concat except for the argument 'objs' will be keyword-only.\n",
            "  df = pdr.get_data_tiingo('AAPL', api_key=key)\n"
          ]
        }
      ],
      "source": [
        "df = pdr.get_data_tiingo('AAPL', api_key=key)"
      ]
    },
    {
      "cell_type": "code",
      "execution_count": 6,
      "metadata": {
        "id": "4nEZCHuUanCi"
      },
      "outputs": [],
      "source": [
        "df.to_csv('AAPL.csv')"
      ]
    },
    {
      "cell_type": "code",
      "execution_count": 7,
      "metadata": {
        "id": "PaIgA4ZydABh"
      },
      "outputs": [],
      "source": [
        "import pandas as pd"
      ]
    },
    {
      "cell_type": "code",
      "execution_count": 8,
      "metadata": {
        "colab": {
          "base_uri": "https://localhost:8080/",
          "height": 235
        },
        "id": "2OaZkvdudCOB",
        "outputId": "c0820fe1-848a-40c0-9a13-1920b2f8a8d1"
      },
      "outputs": [
        {
          "output_type": "execute_result",
          "data": {
            "text/plain": [
              "                                   close    high     low    open    volume  \\\n",
              "symbol date                                                                  \n",
              "AAPL   2018-09-13 00:00:00+00:00  226.41  228.35  222.57  223.52  41706377   \n",
              "       2018-09-14 00:00:00+00:00  223.84  226.84  222.52  225.75  31999289   \n",
              "       2018-09-17 00:00:00+00:00  217.88  222.95  217.27  222.15  37195133   \n",
              "       2018-09-18 00:00:00+00:00  218.24  221.85  217.12  217.79  31571712   \n",
              "       2018-09-19 00:00:00+00:00  218.37  219.62  215.30  218.50  27123833   \n",
              "\n",
              "                                   adjClose    adjHigh     adjLow    adjOpen  \\\n",
              "symbol date                                                                    \n",
              "AAPL   2018-09-13 00:00:00+00:00  54.206141  54.670608  53.286785  53.514230   \n",
              "       2018-09-14 00:00:00+00:00  53.590843  54.309090  53.274814  54.048127   \n",
              "       2018-09-17 00:00:00+00:00  52.163924  53.377763  52.017881  53.186230   \n",
              "       2018-09-18 00:00:00+00:00  52.250114  53.114405  51.981968  52.142377   \n",
              "       2018-09-19 00:00:00+00:00  52.281238  52.580508  51.546231  52.312362   \n",
              "\n",
              "                                  adjVolume  divCash  splitFactor  \n",
              "symbol date                                                        \n",
              "AAPL   2018-09-13 00:00:00+00:00  166825508      0.0          1.0  \n",
              "       2018-09-14 00:00:00+00:00  127997156      0.0          1.0  \n",
              "       2018-09-17 00:00:00+00:00  148780532      0.0          1.0  \n",
              "       2018-09-18 00:00:00+00:00  126286848      0.0          1.0  \n",
              "       2018-09-19 00:00:00+00:00  108495332      0.0          1.0  "
            ],
            "text/html": [
              "\n",
              "  <div id=\"df-2310d5e7-b554-49de-90f9-dc07cb51e33d\" class=\"colab-df-container\">\n",
              "    <div>\n",
              "<style scoped>\n",
              "    .dataframe tbody tr th:only-of-type {\n",
              "        vertical-align: middle;\n",
              "    }\n",
              "\n",
              "    .dataframe tbody tr th {\n",
              "        vertical-align: top;\n",
              "    }\n",
              "\n",
              "    .dataframe thead th {\n",
              "        text-align: right;\n",
              "    }\n",
              "</style>\n",
              "<table border=\"1\" class=\"dataframe\">\n",
              "  <thead>\n",
              "    <tr style=\"text-align: right;\">\n",
              "      <th></th>\n",
              "      <th></th>\n",
              "      <th>close</th>\n",
              "      <th>high</th>\n",
              "      <th>low</th>\n",
              "      <th>open</th>\n",
              "      <th>volume</th>\n",
              "      <th>adjClose</th>\n",
              "      <th>adjHigh</th>\n",
              "      <th>adjLow</th>\n",
              "      <th>adjOpen</th>\n",
              "      <th>adjVolume</th>\n",
              "      <th>divCash</th>\n",
              "      <th>splitFactor</th>\n",
              "    </tr>\n",
              "    <tr>\n",
              "      <th>symbol</th>\n",
              "      <th>date</th>\n",
              "      <th></th>\n",
              "      <th></th>\n",
              "      <th></th>\n",
              "      <th></th>\n",
              "      <th></th>\n",
              "      <th></th>\n",
              "      <th></th>\n",
              "      <th></th>\n",
              "      <th></th>\n",
              "      <th></th>\n",
              "      <th></th>\n",
              "      <th></th>\n",
              "    </tr>\n",
              "  </thead>\n",
              "  <tbody>\n",
              "    <tr>\n",
              "      <th rowspan=\"5\" valign=\"top\">AAPL</th>\n",
              "      <th>2018-09-13 00:00:00+00:00</th>\n",
              "      <td>226.41</td>\n",
              "      <td>228.35</td>\n",
              "      <td>222.57</td>\n",
              "      <td>223.52</td>\n",
              "      <td>41706377</td>\n",
              "      <td>54.206141</td>\n",
              "      <td>54.670608</td>\n",
              "      <td>53.286785</td>\n",
              "      <td>53.514230</td>\n",
              "      <td>166825508</td>\n",
              "      <td>0.0</td>\n",
              "      <td>1.0</td>\n",
              "    </tr>\n",
              "    <tr>\n",
              "      <th>2018-09-14 00:00:00+00:00</th>\n",
              "      <td>223.84</td>\n",
              "      <td>226.84</td>\n",
              "      <td>222.52</td>\n",
              "      <td>225.75</td>\n",
              "      <td>31999289</td>\n",
              "      <td>53.590843</td>\n",
              "      <td>54.309090</td>\n",
              "      <td>53.274814</td>\n",
              "      <td>54.048127</td>\n",
              "      <td>127997156</td>\n",
              "      <td>0.0</td>\n",
              "      <td>1.0</td>\n",
              "    </tr>\n",
              "    <tr>\n",
              "      <th>2018-09-17 00:00:00+00:00</th>\n",
              "      <td>217.88</td>\n",
              "      <td>222.95</td>\n",
              "      <td>217.27</td>\n",
              "      <td>222.15</td>\n",
              "      <td>37195133</td>\n",
              "      <td>52.163924</td>\n",
              "      <td>53.377763</td>\n",
              "      <td>52.017881</td>\n",
              "      <td>53.186230</td>\n",
              "      <td>148780532</td>\n",
              "      <td>0.0</td>\n",
              "      <td>1.0</td>\n",
              "    </tr>\n",
              "    <tr>\n",
              "      <th>2018-09-18 00:00:00+00:00</th>\n",
              "      <td>218.24</td>\n",
              "      <td>221.85</td>\n",
              "      <td>217.12</td>\n",
              "      <td>217.79</td>\n",
              "      <td>31571712</td>\n",
              "      <td>52.250114</td>\n",
              "      <td>53.114405</td>\n",
              "      <td>51.981968</td>\n",
              "      <td>52.142377</td>\n",
              "      <td>126286848</td>\n",
              "      <td>0.0</td>\n",
              "      <td>1.0</td>\n",
              "    </tr>\n",
              "    <tr>\n",
              "      <th>2018-09-19 00:00:00+00:00</th>\n",
              "      <td>218.37</td>\n",
              "      <td>219.62</td>\n",
              "      <td>215.30</td>\n",
              "      <td>218.50</td>\n",
              "      <td>27123833</td>\n",
              "      <td>52.281238</td>\n",
              "      <td>52.580508</td>\n",
              "      <td>51.546231</td>\n",
              "      <td>52.312362</td>\n",
              "      <td>108495332</td>\n",
              "      <td>0.0</td>\n",
              "      <td>1.0</td>\n",
              "    </tr>\n",
              "  </tbody>\n",
              "</table>\n",
              "</div>\n",
              "    <div class=\"colab-df-buttons\">\n",
              "\n",
              "  <div class=\"colab-df-container\">\n",
              "    <button class=\"colab-df-convert\" onclick=\"convertToInteractive('df-2310d5e7-b554-49de-90f9-dc07cb51e33d')\"\n",
              "            title=\"Convert this dataframe to an interactive table.\"\n",
              "            style=\"display:none;\">\n",
              "\n",
              "  <svg xmlns=\"http://www.w3.org/2000/svg\" height=\"24px\" viewBox=\"0 -960 960 960\">\n",
              "    <path d=\"M120-120v-720h720v720H120Zm60-500h600v-160H180v160Zm220 220h160v-160H400v160Zm0 220h160v-160H400v160ZM180-400h160v-160H180v160Zm440 0h160v-160H620v160ZM180-180h160v-160H180v160Zm440 0h160v-160H620v160Z\"/>\n",
              "  </svg>\n",
              "    </button>\n",
              "\n",
              "  <style>\n",
              "    .colab-df-container {\n",
              "      display:flex;\n",
              "      gap: 12px;\n",
              "    }\n",
              "\n",
              "    .colab-df-convert {\n",
              "      background-color: #E8F0FE;\n",
              "      border: none;\n",
              "      border-radius: 50%;\n",
              "      cursor: pointer;\n",
              "      display: none;\n",
              "      fill: #1967D2;\n",
              "      height: 32px;\n",
              "      padding: 0 0 0 0;\n",
              "      width: 32px;\n",
              "    }\n",
              "\n",
              "    .colab-df-convert:hover {\n",
              "      background-color: #E2EBFA;\n",
              "      box-shadow: 0px 1px 2px rgba(60, 64, 67, 0.3), 0px 1px 3px 1px rgba(60, 64, 67, 0.15);\n",
              "      fill: #174EA6;\n",
              "    }\n",
              "\n",
              "    .colab-df-buttons div {\n",
              "      margin-bottom: 4px;\n",
              "    }\n",
              "\n",
              "    [theme=dark] .colab-df-convert {\n",
              "      background-color: #3B4455;\n",
              "      fill: #D2E3FC;\n",
              "    }\n",
              "\n",
              "    [theme=dark] .colab-df-convert:hover {\n",
              "      background-color: #434B5C;\n",
              "      box-shadow: 0px 1px 3px 1px rgba(0, 0, 0, 0.15);\n",
              "      filter: drop-shadow(0px 1px 2px rgba(0, 0, 0, 0.3));\n",
              "      fill: #FFFFFF;\n",
              "    }\n",
              "  </style>\n",
              "\n",
              "    <script>\n",
              "      const buttonEl =\n",
              "        document.querySelector('#df-2310d5e7-b554-49de-90f9-dc07cb51e33d button.colab-df-convert');\n",
              "      buttonEl.style.display =\n",
              "        google.colab.kernel.accessAllowed ? 'block' : 'none';\n",
              "\n",
              "      async function convertToInteractive(key) {\n",
              "        const element = document.querySelector('#df-2310d5e7-b554-49de-90f9-dc07cb51e33d');\n",
              "        const dataTable =\n",
              "          await google.colab.kernel.invokeFunction('convertToInteractive',\n",
              "                                                    [key], {});\n",
              "        if (!dataTable) return;\n",
              "\n",
              "        const docLinkHtml = 'Like what you see? Visit the ' +\n",
              "          '<a target=\"_blank\" href=https://colab.research.google.com/notebooks/data_table.ipynb>data table notebook</a>'\n",
              "          + ' to learn more about interactive tables.';\n",
              "        element.innerHTML = '';\n",
              "        dataTable['output_type'] = 'display_data';\n",
              "        await google.colab.output.renderOutput(dataTable, element);\n",
              "        const docLink = document.createElement('div');\n",
              "        docLink.innerHTML = docLinkHtml;\n",
              "        element.appendChild(docLink);\n",
              "      }\n",
              "    </script>\n",
              "  </div>\n",
              "\n",
              "\n",
              "<div id=\"df-1fa752a6-8295-46b8-b62d-60b6ae5d2368\">\n",
              "  <button class=\"colab-df-quickchart\" onclick=\"quickchart('df-1fa752a6-8295-46b8-b62d-60b6ae5d2368')\"\n",
              "            title=\"Suggest charts.\"\n",
              "            style=\"display:none;\">\n",
              "\n",
              "<svg xmlns=\"http://www.w3.org/2000/svg\" height=\"24px\"viewBox=\"0 0 24 24\"\n",
              "     width=\"24px\">\n",
              "    <g>\n",
              "        <path d=\"M19 3H5c-1.1 0-2 .9-2 2v14c0 1.1.9 2 2 2h14c1.1 0 2-.9 2-2V5c0-1.1-.9-2-2-2zM9 17H7v-7h2v7zm4 0h-2V7h2v10zm4 0h-2v-4h2v4z\"/>\n",
              "    </g>\n",
              "</svg>\n",
              "  </button>\n",
              "\n",
              "<style>\n",
              "  .colab-df-quickchart {\n",
              "      --bg-color: #E8F0FE;\n",
              "      --fill-color: #1967D2;\n",
              "      --hover-bg-color: #E2EBFA;\n",
              "      --hover-fill-color: #174EA6;\n",
              "      --disabled-fill-color: #AAA;\n",
              "      --disabled-bg-color: #DDD;\n",
              "  }\n",
              "\n",
              "  [theme=dark] .colab-df-quickchart {\n",
              "      --bg-color: #3B4455;\n",
              "      --fill-color: #D2E3FC;\n",
              "      --hover-bg-color: #434B5C;\n",
              "      --hover-fill-color: #FFFFFF;\n",
              "      --disabled-bg-color: #3B4455;\n",
              "      --disabled-fill-color: #666;\n",
              "  }\n",
              "\n",
              "  .colab-df-quickchart {\n",
              "    background-color: var(--bg-color);\n",
              "    border: none;\n",
              "    border-radius: 50%;\n",
              "    cursor: pointer;\n",
              "    display: none;\n",
              "    fill: var(--fill-color);\n",
              "    height: 32px;\n",
              "    padding: 0;\n",
              "    width: 32px;\n",
              "  }\n",
              "\n",
              "  .colab-df-quickchart:hover {\n",
              "    background-color: var(--hover-bg-color);\n",
              "    box-shadow: 0 1px 2px rgba(60, 64, 67, 0.3), 0 1px 3px 1px rgba(60, 64, 67, 0.15);\n",
              "    fill: var(--button-hover-fill-color);\n",
              "  }\n",
              "\n",
              "  .colab-df-quickchart-complete:disabled,\n",
              "  .colab-df-quickchart-complete:disabled:hover {\n",
              "    background-color: var(--disabled-bg-color);\n",
              "    fill: var(--disabled-fill-color);\n",
              "    box-shadow: none;\n",
              "  }\n",
              "\n",
              "  .colab-df-spinner {\n",
              "    border: 2px solid var(--fill-color);\n",
              "    border-color: transparent;\n",
              "    border-bottom-color: var(--fill-color);\n",
              "    animation:\n",
              "      spin 1s steps(1) infinite;\n",
              "  }\n",
              "\n",
              "  @keyframes spin {\n",
              "    0% {\n",
              "      border-color: transparent;\n",
              "      border-bottom-color: var(--fill-color);\n",
              "      border-left-color: var(--fill-color);\n",
              "    }\n",
              "    20% {\n",
              "      border-color: transparent;\n",
              "      border-left-color: var(--fill-color);\n",
              "      border-top-color: var(--fill-color);\n",
              "    }\n",
              "    30% {\n",
              "      border-color: transparent;\n",
              "      border-left-color: var(--fill-color);\n",
              "      border-top-color: var(--fill-color);\n",
              "      border-right-color: var(--fill-color);\n",
              "    }\n",
              "    40% {\n",
              "      border-color: transparent;\n",
              "      border-right-color: var(--fill-color);\n",
              "      border-top-color: var(--fill-color);\n",
              "    }\n",
              "    60% {\n",
              "      border-color: transparent;\n",
              "      border-right-color: var(--fill-color);\n",
              "    }\n",
              "    80% {\n",
              "      border-color: transparent;\n",
              "      border-right-color: var(--fill-color);\n",
              "      border-bottom-color: var(--fill-color);\n",
              "    }\n",
              "    90% {\n",
              "      border-color: transparent;\n",
              "      border-bottom-color: var(--fill-color);\n",
              "    }\n",
              "  }\n",
              "</style>\n",
              "\n",
              "  <script>\n",
              "    async function quickchart(key) {\n",
              "      const quickchartButtonEl =\n",
              "        document.querySelector('#' + key + ' button');\n",
              "      quickchartButtonEl.disabled = true;  // To prevent multiple clicks.\n",
              "      quickchartButtonEl.classList.add('colab-df-spinner');\n",
              "      try {\n",
              "        const charts = await google.colab.kernel.invokeFunction(\n",
              "            'suggestCharts', [key], {});\n",
              "      } catch (error) {\n",
              "        console.error('Error during call to suggestCharts:', error);\n",
              "      }\n",
              "      quickchartButtonEl.classList.remove('colab-df-spinner');\n",
              "      quickchartButtonEl.classList.add('colab-df-quickchart-complete');\n",
              "    }\n",
              "    (() => {\n",
              "      let quickchartButtonEl =\n",
              "        document.querySelector('#df-1fa752a6-8295-46b8-b62d-60b6ae5d2368 button');\n",
              "      quickchartButtonEl.style.display =\n",
              "        google.colab.kernel.accessAllowed ? 'block' : 'none';\n",
              "    })();\n",
              "  </script>\n",
              "</div>\n",
              "    </div>\n",
              "  </div>\n"
            ]
          },
          "metadata": {},
          "execution_count": 8
        }
      ],
      "source": [
        "df.head()"
      ]
    },
    {
      "cell_type": "code",
      "execution_count": 9,
      "metadata": {
        "colab": {
          "base_uri": "https://localhost:8080/",
          "height": 235
        },
        "id": "JZ4xulHXdE7U",
        "outputId": "7a787237-a236-476d-ea8b-f2715abbf739"
      },
      "outputs": [
        {
          "output_type": "execute_result",
          "data": {
            "text/plain": [
              "                                   close     high     low    open     volume  \\\n",
              "symbol date                                                                    \n",
              "AAPL   2023-09-05 00:00:00+00:00  189.70  189.980  187.61  188.28   45280027   \n",
              "       2023-09-06 00:00:00+00:00  182.91  188.850  181.47  188.40   81755816   \n",
              "       2023-09-07 00:00:00+00:00  177.56  178.210  173.54  175.18  112488803   \n",
              "       2023-09-08 00:00:00+00:00  178.18  180.239  177.79  178.35   65602066   \n",
              "       2023-09-11 00:00:00+00:00  179.36  180.300  177.34  180.07   58953052   \n",
              "\n",
              "                                  adjClose  adjHigh  adjLow  adjOpen  \\\n",
              "symbol date                                                            \n",
              "AAPL   2023-09-05 00:00:00+00:00    189.70  189.980  187.61   188.28   \n",
              "       2023-09-06 00:00:00+00:00    182.91  188.850  181.47   188.40   \n",
              "       2023-09-07 00:00:00+00:00    177.56  178.210  173.54   175.18   \n",
              "       2023-09-08 00:00:00+00:00    178.18  180.239  177.79   178.35   \n",
              "       2023-09-11 00:00:00+00:00    179.36  180.300  177.34   180.07   \n",
              "\n",
              "                                  adjVolume  divCash  splitFactor  \n",
              "symbol date                                                        \n",
              "AAPL   2023-09-05 00:00:00+00:00   45280027      0.0          1.0  \n",
              "       2023-09-06 00:00:00+00:00   81755816      0.0          1.0  \n",
              "       2023-09-07 00:00:00+00:00  112488803      0.0          1.0  \n",
              "       2023-09-08 00:00:00+00:00   65602066      0.0          1.0  \n",
              "       2023-09-11 00:00:00+00:00   58953052      0.0          1.0  "
            ],
            "text/html": [
              "\n",
              "  <div id=\"df-7edb47d0-250d-4f87-a609-434e75500214\" class=\"colab-df-container\">\n",
              "    <div>\n",
              "<style scoped>\n",
              "    .dataframe tbody tr th:only-of-type {\n",
              "        vertical-align: middle;\n",
              "    }\n",
              "\n",
              "    .dataframe tbody tr th {\n",
              "        vertical-align: top;\n",
              "    }\n",
              "\n",
              "    .dataframe thead th {\n",
              "        text-align: right;\n",
              "    }\n",
              "</style>\n",
              "<table border=\"1\" class=\"dataframe\">\n",
              "  <thead>\n",
              "    <tr style=\"text-align: right;\">\n",
              "      <th></th>\n",
              "      <th></th>\n",
              "      <th>close</th>\n",
              "      <th>high</th>\n",
              "      <th>low</th>\n",
              "      <th>open</th>\n",
              "      <th>volume</th>\n",
              "      <th>adjClose</th>\n",
              "      <th>adjHigh</th>\n",
              "      <th>adjLow</th>\n",
              "      <th>adjOpen</th>\n",
              "      <th>adjVolume</th>\n",
              "      <th>divCash</th>\n",
              "      <th>splitFactor</th>\n",
              "    </tr>\n",
              "    <tr>\n",
              "      <th>symbol</th>\n",
              "      <th>date</th>\n",
              "      <th></th>\n",
              "      <th></th>\n",
              "      <th></th>\n",
              "      <th></th>\n",
              "      <th></th>\n",
              "      <th></th>\n",
              "      <th></th>\n",
              "      <th></th>\n",
              "      <th></th>\n",
              "      <th></th>\n",
              "      <th></th>\n",
              "      <th></th>\n",
              "    </tr>\n",
              "  </thead>\n",
              "  <tbody>\n",
              "    <tr>\n",
              "      <th rowspan=\"5\" valign=\"top\">AAPL</th>\n",
              "      <th>2023-09-05 00:00:00+00:00</th>\n",
              "      <td>189.70</td>\n",
              "      <td>189.980</td>\n",
              "      <td>187.61</td>\n",
              "      <td>188.28</td>\n",
              "      <td>45280027</td>\n",
              "      <td>189.70</td>\n",
              "      <td>189.980</td>\n",
              "      <td>187.61</td>\n",
              "      <td>188.28</td>\n",
              "      <td>45280027</td>\n",
              "      <td>0.0</td>\n",
              "      <td>1.0</td>\n",
              "    </tr>\n",
              "    <tr>\n",
              "      <th>2023-09-06 00:00:00+00:00</th>\n",
              "      <td>182.91</td>\n",
              "      <td>188.850</td>\n",
              "      <td>181.47</td>\n",
              "      <td>188.40</td>\n",
              "      <td>81755816</td>\n",
              "      <td>182.91</td>\n",
              "      <td>188.850</td>\n",
              "      <td>181.47</td>\n",
              "      <td>188.40</td>\n",
              "      <td>81755816</td>\n",
              "      <td>0.0</td>\n",
              "      <td>1.0</td>\n",
              "    </tr>\n",
              "    <tr>\n",
              "      <th>2023-09-07 00:00:00+00:00</th>\n",
              "      <td>177.56</td>\n",
              "      <td>178.210</td>\n",
              "      <td>173.54</td>\n",
              "      <td>175.18</td>\n",
              "      <td>112488803</td>\n",
              "      <td>177.56</td>\n",
              "      <td>178.210</td>\n",
              "      <td>173.54</td>\n",
              "      <td>175.18</td>\n",
              "      <td>112488803</td>\n",
              "      <td>0.0</td>\n",
              "      <td>1.0</td>\n",
              "    </tr>\n",
              "    <tr>\n",
              "      <th>2023-09-08 00:00:00+00:00</th>\n",
              "      <td>178.18</td>\n",
              "      <td>180.239</td>\n",
              "      <td>177.79</td>\n",
              "      <td>178.35</td>\n",
              "      <td>65602066</td>\n",
              "      <td>178.18</td>\n",
              "      <td>180.239</td>\n",
              "      <td>177.79</td>\n",
              "      <td>178.35</td>\n",
              "      <td>65602066</td>\n",
              "      <td>0.0</td>\n",
              "      <td>1.0</td>\n",
              "    </tr>\n",
              "    <tr>\n",
              "      <th>2023-09-11 00:00:00+00:00</th>\n",
              "      <td>179.36</td>\n",
              "      <td>180.300</td>\n",
              "      <td>177.34</td>\n",
              "      <td>180.07</td>\n",
              "      <td>58953052</td>\n",
              "      <td>179.36</td>\n",
              "      <td>180.300</td>\n",
              "      <td>177.34</td>\n",
              "      <td>180.07</td>\n",
              "      <td>58953052</td>\n",
              "      <td>0.0</td>\n",
              "      <td>1.0</td>\n",
              "    </tr>\n",
              "  </tbody>\n",
              "</table>\n",
              "</div>\n",
              "    <div class=\"colab-df-buttons\">\n",
              "\n",
              "  <div class=\"colab-df-container\">\n",
              "    <button class=\"colab-df-convert\" onclick=\"convertToInteractive('df-7edb47d0-250d-4f87-a609-434e75500214')\"\n",
              "            title=\"Convert this dataframe to an interactive table.\"\n",
              "            style=\"display:none;\">\n",
              "\n",
              "  <svg xmlns=\"http://www.w3.org/2000/svg\" height=\"24px\" viewBox=\"0 -960 960 960\">\n",
              "    <path d=\"M120-120v-720h720v720H120Zm60-500h600v-160H180v160Zm220 220h160v-160H400v160Zm0 220h160v-160H400v160ZM180-400h160v-160H180v160Zm440 0h160v-160H620v160ZM180-180h160v-160H180v160Zm440 0h160v-160H620v160Z\"/>\n",
              "  </svg>\n",
              "    </button>\n",
              "\n",
              "  <style>\n",
              "    .colab-df-container {\n",
              "      display:flex;\n",
              "      gap: 12px;\n",
              "    }\n",
              "\n",
              "    .colab-df-convert {\n",
              "      background-color: #E8F0FE;\n",
              "      border: none;\n",
              "      border-radius: 50%;\n",
              "      cursor: pointer;\n",
              "      display: none;\n",
              "      fill: #1967D2;\n",
              "      height: 32px;\n",
              "      padding: 0 0 0 0;\n",
              "      width: 32px;\n",
              "    }\n",
              "\n",
              "    .colab-df-convert:hover {\n",
              "      background-color: #E2EBFA;\n",
              "      box-shadow: 0px 1px 2px rgba(60, 64, 67, 0.3), 0px 1px 3px 1px rgba(60, 64, 67, 0.15);\n",
              "      fill: #174EA6;\n",
              "    }\n",
              "\n",
              "    .colab-df-buttons div {\n",
              "      margin-bottom: 4px;\n",
              "    }\n",
              "\n",
              "    [theme=dark] .colab-df-convert {\n",
              "      background-color: #3B4455;\n",
              "      fill: #D2E3FC;\n",
              "    }\n",
              "\n",
              "    [theme=dark] .colab-df-convert:hover {\n",
              "      background-color: #434B5C;\n",
              "      box-shadow: 0px 1px 3px 1px rgba(0, 0, 0, 0.15);\n",
              "      filter: drop-shadow(0px 1px 2px rgba(0, 0, 0, 0.3));\n",
              "      fill: #FFFFFF;\n",
              "    }\n",
              "  </style>\n",
              "\n",
              "    <script>\n",
              "      const buttonEl =\n",
              "        document.querySelector('#df-7edb47d0-250d-4f87-a609-434e75500214 button.colab-df-convert');\n",
              "      buttonEl.style.display =\n",
              "        google.colab.kernel.accessAllowed ? 'block' : 'none';\n",
              "\n",
              "      async function convertToInteractive(key) {\n",
              "        const element = document.querySelector('#df-7edb47d0-250d-4f87-a609-434e75500214');\n",
              "        const dataTable =\n",
              "          await google.colab.kernel.invokeFunction('convertToInteractive',\n",
              "                                                    [key], {});\n",
              "        if (!dataTable) return;\n",
              "\n",
              "        const docLinkHtml = 'Like what you see? Visit the ' +\n",
              "          '<a target=\"_blank\" href=https://colab.research.google.com/notebooks/data_table.ipynb>data table notebook</a>'\n",
              "          + ' to learn more about interactive tables.';\n",
              "        element.innerHTML = '';\n",
              "        dataTable['output_type'] = 'display_data';\n",
              "        await google.colab.output.renderOutput(dataTable, element);\n",
              "        const docLink = document.createElement('div');\n",
              "        docLink.innerHTML = docLinkHtml;\n",
              "        element.appendChild(docLink);\n",
              "      }\n",
              "    </script>\n",
              "  </div>\n",
              "\n",
              "\n",
              "<div id=\"df-9147ca7e-3e23-43ef-9997-3bed057343ba\">\n",
              "  <button class=\"colab-df-quickchart\" onclick=\"quickchart('df-9147ca7e-3e23-43ef-9997-3bed057343ba')\"\n",
              "            title=\"Suggest charts.\"\n",
              "            style=\"display:none;\">\n",
              "\n",
              "<svg xmlns=\"http://www.w3.org/2000/svg\" height=\"24px\"viewBox=\"0 0 24 24\"\n",
              "     width=\"24px\">\n",
              "    <g>\n",
              "        <path d=\"M19 3H5c-1.1 0-2 .9-2 2v14c0 1.1.9 2 2 2h14c1.1 0 2-.9 2-2V5c0-1.1-.9-2-2-2zM9 17H7v-7h2v7zm4 0h-2V7h2v10zm4 0h-2v-4h2v4z\"/>\n",
              "    </g>\n",
              "</svg>\n",
              "  </button>\n",
              "\n",
              "<style>\n",
              "  .colab-df-quickchart {\n",
              "      --bg-color: #E8F0FE;\n",
              "      --fill-color: #1967D2;\n",
              "      --hover-bg-color: #E2EBFA;\n",
              "      --hover-fill-color: #174EA6;\n",
              "      --disabled-fill-color: #AAA;\n",
              "      --disabled-bg-color: #DDD;\n",
              "  }\n",
              "\n",
              "  [theme=dark] .colab-df-quickchart {\n",
              "      --bg-color: #3B4455;\n",
              "      --fill-color: #D2E3FC;\n",
              "      --hover-bg-color: #434B5C;\n",
              "      --hover-fill-color: #FFFFFF;\n",
              "      --disabled-bg-color: #3B4455;\n",
              "      --disabled-fill-color: #666;\n",
              "  }\n",
              "\n",
              "  .colab-df-quickchart {\n",
              "    background-color: var(--bg-color);\n",
              "    border: none;\n",
              "    border-radius: 50%;\n",
              "    cursor: pointer;\n",
              "    display: none;\n",
              "    fill: var(--fill-color);\n",
              "    height: 32px;\n",
              "    padding: 0;\n",
              "    width: 32px;\n",
              "  }\n",
              "\n",
              "  .colab-df-quickchart:hover {\n",
              "    background-color: var(--hover-bg-color);\n",
              "    box-shadow: 0 1px 2px rgba(60, 64, 67, 0.3), 0 1px 3px 1px rgba(60, 64, 67, 0.15);\n",
              "    fill: var(--button-hover-fill-color);\n",
              "  }\n",
              "\n",
              "  .colab-df-quickchart-complete:disabled,\n",
              "  .colab-df-quickchart-complete:disabled:hover {\n",
              "    background-color: var(--disabled-bg-color);\n",
              "    fill: var(--disabled-fill-color);\n",
              "    box-shadow: none;\n",
              "  }\n",
              "\n",
              "  .colab-df-spinner {\n",
              "    border: 2px solid var(--fill-color);\n",
              "    border-color: transparent;\n",
              "    border-bottom-color: var(--fill-color);\n",
              "    animation:\n",
              "      spin 1s steps(1) infinite;\n",
              "  }\n",
              "\n",
              "  @keyframes spin {\n",
              "    0% {\n",
              "      border-color: transparent;\n",
              "      border-bottom-color: var(--fill-color);\n",
              "      border-left-color: var(--fill-color);\n",
              "    }\n",
              "    20% {\n",
              "      border-color: transparent;\n",
              "      border-left-color: var(--fill-color);\n",
              "      border-top-color: var(--fill-color);\n",
              "    }\n",
              "    30% {\n",
              "      border-color: transparent;\n",
              "      border-left-color: var(--fill-color);\n",
              "      border-top-color: var(--fill-color);\n",
              "      border-right-color: var(--fill-color);\n",
              "    }\n",
              "    40% {\n",
              "      border-color: transparent;\n",
              "      border-right-color: var(--fill-color);\n",
              "      border-top-color: var(--fill-color);\n",
              "    }\n",
              "    60% {\n",
              "      border-color: transparent;\n",
              "      border-right-color: var(--fill-color);\n",
              "    }\n",
              "    80% {\n",
              "      border-color: transparent;\n",
              "      border-right-color: var(--fill-color);\n",
              "      border-bottom-color: var(--fill-color);\n",
              "    }\n",
              "    90% {\n",
              "      border-color: transparent;\n",
              "      border-bottom-color: var(--fill-color);\n",
              "    }\n",
              "  }\n",
              "</style>\n",
              "\n",
              "  <script>\n",
              "    async function quickchart(key) {\n",
              "      const quickchartButtonEl =\n",
              "        document.querySelector('#' + key + ' button');\n",
              "      quickchartButtonEl.disabled = true;  // To prevent multiple clicks.\n",
              "      quickchartButtonEl.classList.add('colab-df-spinner');\n",
              "      try {\n",
              "        const charts = await google.colab.kernel.invokeFunction(\n",
              "            'suggestCharts', [key], {});\n",
              "      } catch (error) {\n",
              "        console.error('Error during call to suggestCharts:', error);\n",
              "      }\n",
              "      quickchartButtonEl.classList.remove('colab-df-spinner');\n",
              "      quickchartButtonEl.classList.add('colab-df-quickchart-complete');\n",
              "    }\n",
              "    (() => {\n",
              "      let quickchartButtonEl =\n",
              "        document.querySelector('#df-9147ca7e-3e23-43ef-9997-3bed057343ba button');\n",
              "      quickchartButtonEl.style.display =\n",
              "        google.colab.kernel.accessAllowed ? 'block' : 'none';\n",
              "    })();\n",
              "  </script>\n",
              "</div>\n",
              "    </div>\n",
              "  </div>\n"
            ]
          },
          "metadata": {},
          "execution_count": 9
        }
      ],
      "source": [
        "df.tail()"
      ]
    },
    {
      "cell_type": "code",
      "execution_count": 10,
      "metadata": {
        "id": "Iq-_wqOLdj2Y"
      },
      "outputs": [],
      "source": [
        "df1 = df.reset_index()['close']"
      ]
    },
    {
      "cell_type": "code",
      "execution_count": 11,
      "metadata": {
        "colab": {
          "base_uri": "https://localhost:8080/"
        },
        "id": "rcYT-0S0doiA",
        "outputId": "a3c3d30c-788f-442b-f5a7-214e5ae451b9"
      },
      "outputs": [
        {
          "output_type": "execute_result",
          "data": {
            "text/plain": [
              "0       226.41\n",
              "1       223.84\n",
              "2       217.88\n",
              "3       218.24\n",
              "4       218.37\n",
              "         ...  \n",
              "1251    189.70\n",
              "1252    182.91\n",
              "1253    177.56\n",
              "1254    178.18\n",
              "1255    179.36\n",
              "Name: close, Length: 1256, dtype: float64"
            ]
          },
          "metadata": {},
          "execution_count": 11
        }
      ],
      "source": [
        "df1"
      ]
    },
    {
      "cell_type": "code",
      "execution_count": 12,
      "metadata": {
        "colab": {
          "base_uri": "https://localhost:8080/"
        },
        "id": "KFtGCg0UdrQR",
        "outputId": "a87412ce-f1de-4e48-a199-9f09baf5acee"
      },
      "outputs": [
        {
          "output_type": "execute_result",
          "data": {
            "text/plain": [
              "(1256,)"
            ]
          },
          "metadata": {},
          "execution_count": 12
        }
      ],
      "source": [
        "df1.shape"
      ]
    },
    {
      "cell_type": "code",
      "execution_count": 13,
      "metadata": {
        "colab": {
          "base_uri": "https://localhost:8080/",
          "height": 447
        },
        "id": "DhyRwhvFg2Ix",
        "outputId": "7a30e903-9932-4a24-ece6-5a3f34d831e1"
      },
      "outputs": [
        {
          "output_type": "execute_result",
          "data": {
            "text/plain": [
              "[<matplotlib.lines.Line2D at 0x7d0eba4c5f60>]"
            ]
          },
          "metadata": {},
          "execution_count": 13
        },
        {
          "output_type": "display_data",
          "data": {
            "text/plain": [
              "<Figure size 640x480 with 1 Axes>"
            ],
            "image/png": "[encoded data removed]"
          },
          "metadata": {}
        }
      ],
      "source": [
        "import matplotlib.pyplot as plt\n",
        "plt.plot(df1)"
      ]
    },
    {
      "cell_type": "code",
      "execution_count": 14,
      "metadata": {
        "id": "X9SUbSifg-wN"
      },
      "outputs": [],
      "source": [
        "### LSTM are sensitive to the scale of the data. so we apply MinMAx scaler"
      ]
    },
    {
      "cell_type": "code",
      "execution_count": 15,
      "metadata": {
        "id": "ZMvFc5FPiUWg"
      },
      "outputs": [],
      "source": [
        "import numpy as np"
      ]
    },
    {
      "cell_type": "code",
      "execution_count": 16,
      "metadata": {
        "colab": {
          "base_uri": "https://localhost:8080/"
        },
        "id": "VWHhm4L4i_C2",
        "outputId": "2b024822-6da1-4ba1-bca1-d7a7b8372eb2"
      },
      "outputs": [
        {
          "output_type": "execute_result",
          "data": {
            "text/plain": [
              "0       226.41\n",
              "1       223.84\n",
              "2       217.88\n",
              "3       218.24\n",
              "4       218.37\n",
              "         ...  \n",
              "1251    189.70\n",
              "1252    182.91\n",
              "1253    177.56\n",
              "1254    178.18\n",
              "1255    179.36\n",
              "Name: close, Length: 1256, dtype: float64"
            ]
          },
          "metadata": {},
          "execution_count": 16
        }
      ],
      "source": [
        "df1"
      ]
    },
    {
      "cell_type": "code",
      "execution_count": 17,
      "metadata": {
        "id": "OPdT6tAxiYS6"
      },
      "outputs": [],
      "source": [
        "from sklearn.preprocessing import MinMaxScaler\n",
        "scaler = MinMaxScaler(feature_range=(0,1))\n",
        "df1=scaler.fit_transform(np.array(df1).reshape(-1,1))"
      ]
    },
    {
      "cell_type": "code",
      "execution_count": 18,
      "metadata": {
        "colab": {
          "base_uri": "https://localhost:8080/"
        },
        "id": "zf8nzJaliqCm",
        "outputId": "b539d2c8-289c-4eef-ed8b-c6645344b72e"
      },
      "outputs": [
        {
          "output_type": "execute_result",
          "data": {
            "text/plain": [
              "array([[0.29948654],\n",
              "       [0.29304947],\n",
              "       [0.27812148],\n",
              "       ...,\n",
              "       [0.17713212],\n",
              "       [0.17868503],\n",
              "       [0.18164058]])"
            ]
          },
          "metadata": {},
          "execution_count": 18
        }
      ],
      "source": [
        "df1"
      ]
    },
    {
      "cell_type": "code",
      "execution_count": 19,
      "metadata": {
        "colab": {
          "base_uri": "https://localhost:8080/"
        },
        "id": "f7N9uS97jBjg",
        "outputId": "1f86b692-a08c-477a-9dff-ad1218752613"
      },
      "outputs": [
        {
          "output_type": "execute_result",
          "data": {
            "text/plain": [
              "(1256, 1)"
            ]
          },
          "metadata": {},
          "execution_count": 19
        }
      ],
      "source": [
        "df1.shape\n",
        "## as we can see all values are now between 0 and 1"
      ]
    },
    {
      "cell_type": "code",
      "execution_count": 20,
      "metadata": {
        "colab": {
          "base_uri": "https://localhost:8080/"
        },
        "id": "GQzgChF7jhTR",
        "outputId": "b41f28d3-ba78-451f-8a52-f5cfcf6e7831"
      },
      "outputs": [
        {
          "output_type": "stream",
          "name": "stdout",
          "text": [
            "[[0.29948654]\n",
            " [0.29304947]\n",
            " [0.27812148]\n",
            " ...\n",
            " [0.17713212]\n",
            " [0.17868503]\n",
            " [0.18164058]]\n"
          ]
        }
      ],
      "source": [
        "print(df1)"
      ]
    },
    {
      "cell_type": "code",
      "execution_count": 21,
      "metadata": {
        "id": "TFZbtSsbjrmk"
      },
      "outputs": [],
      "source": [
        "## splitting the data set into training and the test dataset\n",
        "training_size = int(len(df1)*0.65)\n",
        "testing_size = len(df1) - training_size\n",
        "train_data, test_data = df1[0:training_size,:],df1[training_size:len(df1),:1]"
      ]
    },
    {
      "cell_type": "code",
      "execution_count": 22,
      "metadata": {
        "colab": {
          "base_uri": "https://localhost:8080/"
        },
        "id": "16q8yqFVpW78",
        "outputId": "da90dc21-85c8-4870-c2f7-4745dac31a3d"
      },
      "outputs": [
        {
          "output_type": "execute_result",
          "data": {
            "text/plain": [
              "(816, 440)"
            ]
          },
          "metadata": {},
          "execution_count": 22
        }
      ],
      "source": [
        "training_size, testing_size"
      ]
    },
    {
      "cell_type": "code",
      "execution_count": 23,
      "metadata": {
        "id": "PTemhOrvpdqQ"
      },
      "outputs": [],
      "source": [
        "import numpy\n",
        "#convert an array of values into dataset matrix\n",
        "def create_dataset(dataset, timestamp=1):\n",
        "  dataX, dataY = [], []\n",
        "  for i in range(len(dataset)-timestamp-1):\n",
        "    a = dataset[i:(i+timestamp),0]  ###i=0,  0,1,2,3,....99 -----100 if timestamp=100\n",
        "    dataX.append(a)\n",
        "    dataY.append(dataset[i+timestamp, 0])\n",
        "  return numpy.array(dataX), numpy.array(dataY)\n"
      ]
    },
    {
      "cell_type": "code",
      "execution_count": 24,
      "metadata": {
        "id": "EpoWi8zFuCRO"
      },
      "outputs": [],
      "source": [
        "## reshape into X = t, t+1, t+2, t+3 and Y=t+4\n",
        "time_stamp = 100\n",
        "X_train, y_train = create_dataset(train_data, time_stamp)\n",
        "X_test, y_test = create_dataset(test_data, time_stamp)"
      ]
    },
    {
      "cell_type": "code",
      "execution_count": 25,
      "metadata": {
        "colab": {
          "base_uri": "https://localhost:8080/"
        },
        "id": "C3-ucM_owO35",
        "outputId": "d794d279-8b84-48f2-d8ed-86cdc23e9fcf"
      },
      "outputs": [
        {
          "output_type": "stream",
          "name": "stdout",
          "text": [
            "[[0.29948654 0.29304947 0.27812148 ... 0.16132749 0.16866625 0.16881653]\n",
            " [0.29304947 0.27812148 0.27902317 ... 0.16866625 0.16881653 0.16055103]\n",
            " [0.27812148 0.27902317 0.27934878 ... 0.16881653 0.16055103 0.15922354]\n",
            " ...\n",
            " [0.1059737  0.10429555 0.09906074 ... 0.14642455 0.14509706 0.14256731]\n",
            " [0.10429555 0.09906074 0.08919224 ... 0.14509706 0.14256731 0.1377583 ]\n",
            " [0.09906074 0.08919224 0.09845961 ... 0.14256731 0.1377583  0.14647464]]\n"
          ]
        }
      ],
      "source": [
        "print(X_train)"
      ]
    },
    {
      "cell_type": "code",
      "execution_count": 26,
      "metadata": {
        "colab": {
          "base_uri": "https://localhost:8080/"
        },
        "id": "W4cyunvrwlpQ",
        "outputId": "43345250-6c8b-4110-86d2-1303b16ddb68"
      },
      "outputs": [
        {
          "output_type": "stream",
          "name": "stdout",
          "text": [
            "(715, 100)\n",
            "(715,)\n"
          ]
        },
        {
          "output_type": "execute_result",
          "data": {
            "text/plain": [
              "(None, None)"
            ]
          },
          "metadata": {},
          "execution_count": 26
        }
      ],
      "source": [
        "print(X_train.shape), print(y_train.shape)"
      ]
    },
    {
      "cell_type": "code",
      "execution_count": 27,
      "metadata": {
        "colab": {
          "base_uri": "https://localhost:8080/"
        },
        "id": "vHfK0hPLwP8T",
        "outputId": "fa7a529d-9f68-4fc3-86c6-f600238c4394"
      },
      "outputs": [
        {
          "output_type": "stream",
          "name": "stdout",
          "text": [
            "(339, 100)\n",
            "(339,)\n"
          ]
        },
        {
          "output_type": "execute_result",
          "data": {
            "text/plain": [
              "(None, None)"
            ]
          },
          "metadata": {},
          "execution_count": 27
        }
      ],
      "source": [
        "print(X_test.shape), print(y_test.shape)"
      ]
    },
    {
      "cell_type": "code",
      "execution_count": 28,
      "metadata": {
        "id": "M-MDn_X7wazZ"
      },
      "outputs": [],
      "source": [
        "# reshape input to be [samples, time steps, features] which is required for LSTM\n",
        "X_train = X_train.reshape(X_train.shape[0], X_train.shape[1], 1)\n",
        "X_test = X_test.reshape(X_test.shape[0], X_test.shape[1], 1)"
      ]
    },
    {
      "cell_type": "code",
      "execution_count": 29,
      "metadata": {
        "id": "juqnwRgGyKi5"
      },
      "outputs": [],
      "source": [
        "## create a stacked LSTM model\n",
        "import tensorflow\n",
        "from tensorflow.keras.models import Sequential\n",
        "from tensorflow.keras.layers import Dense\n",
        "from tensorflow.keras.layers import LSTM"
      ]
    },
    {
      "cell_type": "code",
      "execution_count": 30,
      "metadata": {
        "id": "irBjPqE0yi-j"
      },
      "outputs": [],
      "source": [
        "model = Sequential()\n",
        "model.add(LSTM(50, return_sequences=True, input_shape=(100,1)))\n",
        "model.add(LSTM(50, return_sequences=True))\n",
        "model.add(LSTM(50))\n",
        "model.add(Dense(1))\n",
        "model.compile(loss = 'mean_squared_error', optimizer='adam')\n"
      ]
    },
    {
      "cell_type": "code",
      "execution_count": 31,
      "metadata": {
        "colab": {
          "base_uri": "https://localhost:8080/"
        },
        "id": "_4cpA8UczJ0J",
        "outputId": "be9a3cff-bff2-4ede-9a2f-a5c29109c4c2"
      },
      "outputs": [
        {
          "output_type": "stream",
          "name": "stdout",
          "text": [
            "Model: \"sequential\"\n",
            "_________________________________________________________________\n",
            " Layer (type)                Output Shape              Param #   \n",
            "=================================================================\n",
            " lstm (LSTM)                 (None, 100, 50)           10400     \n",
            "                                                                 \n",
            " lstm_1 (LSTM)               (None, 100, 50)           20200     \n",
            "                                                                 \n",
            " lstm_2 (LSTM)               (None, 50)                20200     \n",
            "                                                                 \n",
            " dense (Dense)               (None, 1)                 51        \n",
            "                                                                 \n",
            "=================================================================\n",
            "Total params: 50851 (198.64 KB)\n",
            "Trainable params: 50851 (198.64 KB)\n",
            "Non-trainable params: 0 (0.00 Byte)\n",
            "_________________________________________________________________\n"
          ]
        }
      ],
      "source": [
        "model.summary()"
      ]
    },
    {
      "cell_type": "code",
      "execution_count": 32,
      "metadata": {
        "colab": {
          "base_uri": "https://localhost:8080/"
        },
        "id": "3SRU4Cxx0CP6",
        "outputId": "8ec65515-001b-4280-d3b1-439cb97e993e"
      },
      "outputs": [
        {
          "output_type": "stream",
          "name": "stdout",
          "text": [
            "Epoch 1/100\n",
            "12/12 [==============================] - 15s 631ms/step - loss: 0.0398 - val_loss: 0.0015\n",
            "Epoch 2/100\n",
            "12/12 [==============================] - 6s 476ms/step - loss: 0.0129 - val_loss: 7.6186e-04\n",
            "Epoch 3/100\n",
            "12/12 [==============================] - 5s 426ms/step - loss: 0.0097 - val_loss: 7.1369e-04\n",
            "Epoch 4/100\n",
            "12/12 [==============================] - 4s 301ms/step - loss: 0.0082 - val_loss: 6.1490e-04\n",
            "Epoch 5/100\n",
            "12/12 [==============================] - 3s 234ms/step - loss: 0.0069 - val_loss: 3.0684e-04\n",
            "Epoch 6/100\n",
            "12/12 [==============================] - 2s 189ms/step - loss: 0.0064 - val_loss: 3.7555e-04\n",
            "Epoch 7/100\n",
            "12/12 [==============================] - 2s 192ms/step - loss: 0.0063 - val_loss: 3.1402e-04\n",
            "Epoch 8/100\n",
            "12/12 [==============================] - 2s 194ms/step - loss: 0.0057 - val_loss: 4.8104e-04\n",
            "Epoch 9/100\n",
            "12/12 [==============================] - 3s 234ms/step - loss: 0.0051 - val_loss: 4.7742e-04\n",
            "Epoch 10/100\n",
            "12/12 [==============================] - 3s 247ms/step - loss: 0.0047 - val_loss: 4.4740e-04\n",
            "Epoch 11/100\n",
            "12/12 [==============================] - 2s 195ms/step - loss: 0.0044 - val_loss: 4.0281e-04\n",
            "Epoch 12/100\n",
            "12/12 [==============================] - 2s 193ms/step - loss: 0.0041 - val_loss: 3.5296e-04\n",
            "Epoch 13/100\n",
            "12/12 [==============================] - 2s 194ms/step - loss: 0.0036 - val_loss: 4.4170e-04\n",
            "Epoch 14/100\n",
            "12/12 [==============================] - 3s 215ms/step - loss: 0.0040 - val_loss: 3.2329e-04\n",
            "Epoch 15/100\n",
            "12/12 [==============================] - 3s 262ms/step - loss: 0.0031 - val_loss: 2.3794e-04\n",
            "Epoch 16/100\n",
            "12/12 [==============================] - 2s 195ms/step - loss: 0.0029 - val_loss: 3.4501e-04\n",
            "Epoch 17/100\n",
            "12/12 [==============================] - 2s 192ms/step - loss: 0.0029 - val_loss: 3.9664e-04\n",
            "Epoch 18/100\n",
            "12/12 [==============================] - 2s 192ms/step - loss: 0.0033 - val_loss: 4.4488e-04\n",
            "Epoch 19/100\n",
            "12/12 [==============================] - 3s 222ms/step - loss: 0.0028 - val_loss: 2.5837e-04\n",
            "Epoch 20/100\n",
            "12/12 [==============================] - 3s 264ms/step - loss: 0.0026 - val_loss: 2.3640e-04\n",
            "Epoch 21/100\n",
            "12/12 [==============================] - 2s 191ms/step - loss: 0.0021 - val_loss: 2.3630e-04\n",
            "Epoch 22/100\n",
            "12/12 [==============================] - 2s 193ms/step - loss: 0.0022 - val_loss: 3.4356e-04\n",
            "Epoch 23/100\n",
            "12/12 [==============================] - 2s 194ms/step - loss: 0.0024 - val_loss: 2.5688e-04\n",
            "Epoch 24/100\n",
            "12/12 [==============================] - 2s 201ms/step - loss: 0.0019 - val_loss: 2.4273e-04\n",
            "Epoch 25/100\n",
            "12/12 [==============================] - 3s 282ms/step - loss: 0.0018 - val_loss: 3.4981e-04\n",
            "Epoch 26/100\n",
            "12/12 [==============================] - 2s 191ms/step - loss: 0.0025 - val_loss: 2.4135e-04\n",
            "Epoch 27/100\n",
            "12/12 [==============================] - 2s 193ms/step - loss: 0.0020 - val_loss: 2.6261e-04\n",
            "Epoch 28/100\n",
            "12/12 [==============================] - 2s 194ms/step - loss: 0.0020 - val_loss: 3.4092e-04\n",
            "Epoch 29/100\n",
            "12/12 [==============================] - 2s 189ms/step - loss: 0.0034 - val_loss: 2.6682e-04\n",
            "Epoch 30/100\n",
            "12/12 [==============================] - 5s 400ms/step - loss: 0.0019 - val_loss: 2.4569e-04\n",
            "Epoch 31/100\n",
            "12/12 [==============================] - 5s 386ms/step - loss: 0.0019 - val_loss: 2.5183e-04\n",
            "Epoch 32/100\n",
            "12/12 [==============================] - 4s 323ms/step - loss: 0.0019 - val_loss: 2.4779e-04\n",
            "Epoch 33/100\n",
            "12/12 [==============================] - 5s 436ms/step - loss: 0.0018 - val_loss: 2.3859e-04\n",
            "Epoch 34/100\n",
            "12/12 [==============================] - 4s 296ms/step - loss: 0.0018 - val_loss: 2.3916e-04\n",
            "Epoch 35/100\n",
            "12/12 [==============================] - 2s 192ms/step - loss: 0.0019 - val_loss: 3.0352e-04\n",
            "Epoch 36/100\n",
            "12/12 [==============================] - 2s 194ms/step - loss: 0.0017 - val_loss: 2.6816e-04\n",
            "Epoch 37/100\n",
            "12/12 [==============================] - 4s 310ms/step - loss: 0.0029 - val_loss: 8.2632e-04\n",
            "Epoch 38/100\n",
            "12/12 [==============================] - 4s 310ms/step - loss: 0.0024 - val_loss: 2.7803e-04\n",
            "Epoch 39/100\n",
            "12/12 [==============================] - 2s 195ms/step - loss: 0.0016 - val_loss: 3.7573e-04\n",
            "Epoch 40/100\n",
            "12/12 [==============================] - 2s 195ms/step - loss: 0.0031 - val_loss: 0.0011\n",
            "Epoch 41/100\n",
            "12/12 [==============================] - 3s 277ms/step - loss: 0.0033 - val_loss: 2.8923e-04\n",
            "Epoch 42/100\n",
            "12/12 [==============================] - 3s 208ms/step - loss: 0.0025 - val_loss: 4.0738e-04\n",
            "Epoch 43/100\n",
            "12/12 [==============================] - 2s 193ms/step - loss: 0.0017 - val_loss: 3.0342e-04\n",
            "Epoch 44/100\n",
            "12/12 [==============================] - 2s 194ms/step - loss: 0.0016 - val_loss: 2.6962e-04\n",
            "Epoch 45/100\n",
            "12/12 [==============================] - 2s 191ms/step - loss: 0.0016 - val_loss: 2.4532e-04\n",
            "Epoch 46/100\n",
            "12/12 [==============================] - 3s 278ms/step - loss: 0.0025 - val_loss: 2.4170e-04\n",
            "Epoch 47/100\n",
            "12/12 [==============================] - 3s 211ms/step - loss: 0.0024 - val_loss: 2.4686e-04\n",
            "Epoch 48/100\n",
            "12/12 [==============================] - 2s 191ms/step - loss: 0.0019 - val_loss: 2.4058e-04\n",
            "Epoch 49/100\n",
            "12/12 [==============================] - 2s 192ms/step - loss: 0.0029 - val_loss: 5.2054e-04\n",
            "Epoch 50/100\n",
            "12/12 [==============================] - 2s 193ms/step - loss: 0.0030 - val_loss: 2.6044e-04\n",
            "Epoch 51/100\n",
            "12/12 [==============================] - 3s 268ms/step - loss: 0.0024 - val_loss: 5.5138e-04\n",
            "Epoch 52/100\n",
            "12/12 [==============================] - 3s 217ms/step - loss: 0.0019 - val_loss: 4.1174e-04\n",
            "Epoch 53/100\n",
            "12/12 [==============================] - 2s 194ms/step - loss: 0.0016 - val_loss: 2.7435e-04\n",
            "Epoch 54/100\n",
            "12/12 [==============================] - 2s 197ms/step - loss: 0.0036 - val_loss: 2.5665e-04\n",
            "Epoch 55/100\n",
            "12/12 [==============================] - 2s 191ms/step - loss: 0.0033 - val_loss: 8.8467e-04\n",
            "Epoch 56/100\n",
            "12/12 [==============================] - 3s 265ms/step - loss: 0.0023 - val_loss: 2.7345e-04\n",
            "Epoch 57/100\n",
            "12/12 [==============================] - 3s 219ms/step - loss: 0.0021 - val_loss: 3.8366e-04\n",
            "Epoch 58/100\n",
            "12/12 [==============================] - 2s 194ms/step - loss: 0.0022 - val_loss: 4.3717e-04\n",
            "Epoch 59/100\n",
            "12/12 [==============================] - 2s 192ms/step - loss: 0.0017 - val_loss: 2.6978e-04\n",
            "Epoch 60/100\n",
            "12/12 [==============================] - 2s 190ms/step - loss: 0.0017 - val_loss: 2.4859e-04\n",
            "Epoch 61/100\n",
            "12/12 [==============================] - 3s 256ms/step - loss: 0.0018 - val_loss: 2.8666e-04\n",
            "Epoch 62/100\n",
            "12/12 [==============================] - 3s 226ms/step - loss: 0.0052 - val_loss: 4.0394e-04\n",
            "Epoch 63/100\n",
            "12/12 [==============================] - 2s 193ms/step - loss: 0.0040 - val_loss: 2.6913e-04\n",
            "Epoch 64/100\n",
            "12/12 [==============================] - 2s 192ms/step - loss: 0.0034 - val_loss: 4.4114e-04\n",
            "Epoch 65/100\n",
            "12/12 [==============================] - 2s 192ms/step - loss: 0.0025 - val_loss: 2.7650e-04\n",
            "Epoch 66/100\n",
            "12/12 [==============================] - 3s 233ms/step - loss: 0.0023 - val_loss: 4.8309e-04\n",
            "Epoch 67/100\n",
            "12/12 [==============================] - 3s 248ms/step - loss: 0.0025 - val_loss: 2.4539e-04\n",
            "Epoch 68/100\n",
            "12/12 [==============================] - 2s 195ms/step - loss: 0.0021 - val_loss: 2.3889e-04\n",
            "Epoch 69/100\n",
            "12/12 [==============================] - 2s 192ms/step - loss: 0.0020 - val_loss: 2.9964e-04\n",
            "Epoch 70/100\n",
            "12/12 [==============================] - 2s 192ms/step - loss: 0.0020 - val_loss: 3.1749e-04\n",
            "Epoch 71/100\n",
            "12/12 [==============================] - 3s 273ms/step - loss: 0.0018 - val_loss: 2.9650e-04\n",
            "Epoch 72/100\n",
            "12/12 [==============================] - 3s 242ms/step - loss: 0.0023 - val_loss: 4.0815e-04\n",
            "Epoch 73/100\n",
            "12/12 [==============================] - 2s 195ms/step - loss: 0.0023 - val_loss: 2.6743e-04\n",
            "Epoch 74/100\n",
            "12/12 [==============================] - 2s 194ms/step - loss: 0.0022 - val_loss: 3.5539e-04\n",
            "Epoch 75/100\n",
            "12/12 [==============================] - 2s 194ms/step - loss: 0.0020 - val_loss: 5.6522e-04\n",
            "Epoch 76/100\n",
            "12/12 [==============================] - 3s 232ms/step - loss: 0.0018 - val_loss: 3.5797e-04\n",
            "Epoch 77/100\n",
            "12/12 [==============================] - 3s 250ms/step - loss: 0.0015 - val_loss: 2.7508e-04\n",
            "Epoch 78/100\n",
            "12/12 [==============================] - 2s 197ms/step - loss: 0.0016 - val_loss: 2.4185e-04\n",
            "Epoch 79/100\n",
            "12/12 [==============================] - 2s 191ms/step - loss: 0.0017 - val_loss: 3.5272e-04\n",
            "Epoch 80/100\n",
            "12/12 [==============================] - 2s 196ms/step - loss: 0.0015 - val_loss: 2.4991e-04\n",
            "Epoch 81/100\n",
            "12/12 [==============================] - 3s 231ms/step - loss: 0.0015 - val_loss: 2.5541e-04\n",
            "Epoch 82/100\n",
            "12/12 [==============================] - 3s 252ms/step - loss: 0.0015 - val_loss: 4.6714e-04\n",
            "Epoch 83/100\n",
            "12/12 [==============================] - 2s 193ms/step - loss: 0.0017 - val_loss: 3.5111e-04\n",
            "Epoch 84/100\n",
            "12/12 [==============================] - 2s 192ms/step - loss: 0.0047 - val_loss: 4.6030e-04\n",
            "Epoch 85/100\n",
            "12/12 [==============================] - 2s 192ms/step - loss: 0.0039 - val_loss: 3.3510e-04\n",
            "Epoch 86/100\n",
            "12/12 [==============================] - 2s 205ms/step - loss: 0.0025 - val_loss: 2.7432e-04\n",
            "Epoch 87/100\n",
            "12/12 [==============================] - 3s 271ms/step - loss: 0.0022 - val_loss: 2.2319e-04\n",
            "Epoch 88/100\n",
            "12/12 [==============================] - 2s 191ms/step - loss: 0.0031 - val_loss: 4.8883e-04\n",
            "Epoch 89/100\n",
            "12/12 [==============================] - 2s 193ms/step - loss: 0.0036 - val_loss: 0.0011\n",
            "Epoch 90/100\n",
            "12/12 [==============================] - 3s 266ms/step - loss: 0.0025 - val_loss: 4.6137e-04\n",
            "Epoch 91/100\n",
            "12/12 [==============================] - 3s 254ms/step - loss: 0.0018 - val_loss: 2.2670e-04\n",
            "Epoch 92/100\n",
            "12/12 [==============================] - 3s 230ms/step - loss: 0.0029 - val_loss: 5.9413e-04\n",
            "Epoch 93/100\n",
            "12/12 [==============================] - 2s 193ms/step - loss: 0.0023 - val_loss: 2.1302e-04\n",
            "Epoch 94/100\n",
            "12/12 [==============================] - 2s 194ms/step - loss: 0.0018 - val_loss: 2.2349e-04\n",
            "Epoch 95/100\n",
            "12/12 [==============================] - 2s 192ms/step - loss: 0.0016 - val_loss: 3.1515e-04\n",
            "Epoch 96/100\n",
            "12/12 [==============================] - 3s 247ms/step - loss: 0.0035 - val_loss: 6.3139e-04\n",
            "Epoch 97/100\n",
            "12/12 [==============================] - 3s 237ms/step - loss: 0.0023 - val_loss: 4.2692e-04\n",
            "Epoch 98/100\n",
            "12/12 [==============================] - 2s 195ms/step - loss: 0.0019 - val_loss: 2.5523e-04\n",
            "Epoch 99/100\n",
            "12/12 [==============================] - 2s 193ms/step - loss: 0.0014 - val_loss: 2.2565e-04\n",
            "Epoch 100/100\n",
            "12/12 [==============================] - 2s 192ms/step - loss: 0.0013 - val_loss: 2.2814e-04\n"
          ]
        },
        {
          "output_type": "execute_result",
          "data": {
            "text/plain": [
              "<keras.src.callbacks.History at 0x7d0eaee3fc70>"
            ]
          },
          "metadata": {},
          "execution_count": 32
        }
      ],
      "source": [
        "model.fit(X_train,y_train,validation_data=(X_test, y_test),epochs=100,batch_size=64,verbose=1)"
      ]
    },
    {
      "cell_type": "code",
      "execution_count": 34,
      "metadata": {
        "id": "cNMJ8BXc0ZZr"
      },
      "outputs": [],
      "source": [
        "import tensorflow as tf"
      ]
    },
    {
      "cell_type": "code",
      "source": [
        "tf.__version__"
      ],
      "metadata": {
        "colab": {
          "base_uri": "https://localhost:8080/",
          "height": 37
        },
        "id": "HULeEtnws_Zs",
        "outputId": "96efaceb-4fde-4ebc-b85c-7c745ca59112"
      },
      "execution_count": 35,
      "outputs": [
        {
          "output_type": "execute_result",
          "data": {
            "text/plain": [
              "'2.13.0'"
            ],
            "application/vnd.google.colaboratory.intrinsic+json": {
              "type": "string"
            }
          },
          "metadata": {},
          "execution_count": 35
        }
      ]
    },
    {
      "cell_type": "code",
      "source": [
        "## lets do the prediction and check performance metrics\n",
        "train_predict=model.predict(X_train)\n",
        "test_predict=model.predict(X_test)"
      ],
      "metadata": {
        "colab": {
          "base_uri": "https://localhost:8080/"
        },
        "id": "BTQTaYFMtILS",
        "outputId": "8b382b35-a50f-4ebd-f7c1-d5fde1c6cab3"
      },
      "execution_count": 36,
      "outputs": [
        {
          "output_type": "stream",
          "name": "stdout",
          "text": [
            "23/23 [==============================] - 2s 36ms/step\n",
            "11/11 [==============================] - 0s 36ms/step\n"
          ]
        }
      ]
    },
    {
      "cell_type": "code",
      "source": [
        "##Transform back to original form\n",
        "train_predict = scaler.inverse_transform(train_predict)\n",
        "test_predict = scaler.inverse_transform(test_predict)"
      ],
      "metadata": {
        "id": "pznH1F_ZuhBy"
      },
      "execution_count": 37,
      "outputs": []
    },
    {
      "cell_type": "code",
      "source": [
        "import math\n",
        "from sklearn.metrics import mean_squared_error\n",
        "math.sqrt(mean_squared_error(y_train, train_predict))"
      ],
      "metadata": {
        "colab": {
          "base_uri": "https://localhost:8080/"
        },
        "id": "V_IO_QbZwLLj",
        "outputId": "96680c8a-8622-40ef-d621-571e43c57898"
      },
      "execution_count": 38,
      "outputs": [
        {
          "output_type": "execute_result",
          "data": {
            "text/plain": [
              "221.68754601328274"
            ]
          },
          "metadata": {},
          "execution_count": 38
        }
      ]
    },
    {
      "cell_type": "code",
      "source": [
        "### Test data RMSE\n",
        "math.sqrt(mean_squared_error(y_test, test_predict))"
      ],
      "metadata": {
        "colab": {
          "base_uri": "https://localhost:8080/"
        },
        "id": "-vx1MzF0wpWL",
        "outputId": "1b6f7855-8de2-4ca9-e7e3-047f63948920"
      },
      "execution_count": 39,
      "outputs": [
        {
          "output_type": "execute_result",
          "data": {
            "text/plain": [
              "159.61875455198364"
            ]
          },
          "metadata": {},
          "execution_count": 39
        }
      ]
    },
    {
      "cell_type": "code",
      "source": [
        "##plotting\n",
        "# shift train predictions for plotting\n",
        "look_back = 100\n",
        "trainPredictPlot = numpy.empty_like(df1)\n",
        "trainPredictPlot[: , :] = numpy.nan\n",
        "trainPredictPlot[look_back:len(train_predict)+look_back, :] = train_predict\n",
        "\n",
        "# shift test predictions for plotting\n",
        "testPredictPlot = numpy.empty_like(df1)\n",
        "testPredictPlot[: , :] = numpy.nan\n",
        "testPredictPlot[len(train_predict)+(look_back*2)+1:len(df1)-1, :] = test_predict\n",
        "\n",
        "# plot baseline and predictions\n",
        "plt.plot(scaler.inverse_transform(df1))\n",
        "plt.plot(trainPredictPlot)\n",
        "plt.plot(testPredictPlot)\n",
        "plt.show()"
      ],
      "metadata": {
        "colab": {
          "base_uri": "https://localhost:8080/",
          "height": 430
        },
        "id": "2I36xZ72w6ue",
        "outputId": "e5b983a0-e4d9-442c-8d74-29589426c42b"
      },
      "execution_count": 40,
      "outputs": [
        {
          "output_type": "display_data",
          "data": {
            "text/plain": [
              "<Figure size 640x480 with 1 Axes>"
            ],
            "image/png": "[encoded data removed]"
          },
          "metadata": {}
        }
      ]
    },
    {
      "cell_type": "code",
      "source": [
        "len(test_data)"
      ],
      "metadata": {
        "colab": {
          "base_uri": "https://localhost:8080/"
        },
        "id": "ZPlEuXF-0lRa",
        "outputId": "7aef6959-d2d7-4b64-e0a2-86d0cb1c2bfc"
      },
      "execution_count": 43,
      "outputs": [
        {
          "output_type": "execute_result",
          "data": {
            "text/plain": [
              "440"
            ]
          },
          "metadata": {},
          "execution_count": 43
        }
      ]
    },
    {
      "cell_type": "code",
      "source": [
        "x_input = test_data[340:].reshape(1,-1)\n",
        "x_input.shape"
      ],
      "metadata": {
        "colab": {
          "base_uri": "https://localhost:8080/"
        },
        "id": "3Ae5kx5ezd1j",
        "outputId": "000f4fae-3032-47f4-950c-a07eb144d42d"
      },
      "execution_count": 46,
      "outputs": [
        {
          "output_type": "execute_result",
          "data": {
            "text/plain": [
              "(1, 100)"
            ]
          },
          "metadata": {},
          "execution_count": 46
        }
      ]
    },
    {
      "cell_type": "code",
      "source": [
        "temp_input = list(x_input)\n",
        "temp_input = temp_input[0].tolist()"
      ],
      "metadata": {
        "id": "4MqDFURo1rR9"
      },
      "execution_count": 47,
      "outputs": []
    },
    {
      "cell_type": "code",
      "source": [
        "temp_input"
      ],
      "metadata": {
        "colab": {
          "base_uri": "https://localhost:8080/"
        },
        "id": "rvFh8Rvx2MY6",
        "outputId": "ef26c70f-1d0d-45e4-81ea-980fede01726"
      },
      "execution_count": 48,
      "outputs": [
        {
          "output_type": "execute_result",
          "data": {
            "text/plain": [
              "[0.15226048841577955,\n",
              " 0.14980588603631806,\n",
              " 0.14572323105823415,\n",
              " 0.14649968691296178,\n",
              " 0.14259236067626796,\n",
              " 0.14256731371321218,\n",
              " 0.15421415153412643,\n",
              " 0.15739511584220411,\n",
              " 0.15716969317470253,\n",
              " 0.1545397620538509,\n",
              " 0.15180964308077638,\n",
              " 0.1476518472135253,\n",
              " 0.16713838447088286,\n",
              " 0.16696305572949277,\n",
              " 0.16262993112085156,\n",
              " 0.16710081402629928,\n",
              " 0.16758922980588598,\n",
              " 0.16463368816530988,\n",
              " 0.1633813400125234,\n",
              " 0.1633813400125234,\n",
              " 0.16493425172197868,\n",
              " 0.17084533500313087,\n",
              " 0.17112085159674384,\n",
              " 0.1687163431433938,\n",
              " 0.16210394489668123,\n",
              " 0.16280525986224165,\n",
              " 0.1656856606136506,\n",
              " 0.17179711959924854,\n",
              " 0.17648090169067,\n",
              " 0.17635566687539134,\n",
              " 0.1834690043832185,\n",
              " 0.1856230432060112,\n",
              " 0.18219160926737632,\n",
              " 0.18126487163431432,\n",
              " 0.1777833437695679,\n",
              " 0.18467125860989347,\n",
              " 0.18564809016906697,\n",
              " 0.19273638071383836,\n",
              " 0.1915341264871634,\n",
              " 0.19313713212273004,\n",
              " 0.19829680651221032,\n",
              " 0.1955666875391358,\n",
              " 0.1957921102066374,\n",
              " 0.1931621790857858,\n",
              " 0.2007764558547276,\n",
              " 0.19997495303694424,\n",
              " 0.19644333124608637,\n",
              " 0.2034314339386349,\n",
              " 0.2064120225422667,\n",
              " 0.2072636192861615,\n",
              " 0.21823418910457104,\n",
              " 0.21445209768315587,\n",
              " 0.21162179085785848,\n",
              " 0.21282404508453345,\n",
              " 0.20999373825923606,\n",
              " 0.20480901690670006,\n",
              " 0.20348152786474638,\n",
              " 0.20771446462116466,\n",
              " 0.20964308077645577,\n",
              " 0.21001878522229173,\n",
              " 0.21828428303068248,\n",
              " 0.2176330619912335,\n",
              " 0.22106449592986843,\n",
              " 0.21613024420788973,\n",
              " 0.21314965560425791,\n",
              " 0.215178459611772,\n",
              " 0.21735754539762048,\n",
              " 0.21956167814652466,\n",
              " 0.21635566687539132,\n",
              " 0.22289292423293672,\n",
              " 0.22444583594239192,\n",
              " 0.22232936756418276,\n",
              " 0.21475266123982467,\n",
              " 0.21122103944896675,\n",
              " 0.1882279273638071,\n",
              " 0.18036318096430803,\n",
              " 0.18274264245460237,\n",
              " 0.1787100814026299,\n",
              " 0.17815904821540385,\n",
              " 0.17770820288040068,\n",
              " 0.18189104571070758,\n",
              " 0.1768566061365059,\n",
              " 0.1746524733876017,\n",
              " 0.16821540388227924,\n",
              " 0.16944270507200998,\n",
              " 0.17282404508453347,\n",
              " 0.17630557294927984,\n",
              " 0.18604884157795865,\n",
              " 0.17417658108954281,\n",
              " 0.17976205385097055,\n",
              " 0.18371947401377575,\n",
              " 0.1935629304946775,\n",
              " 0.20240450845335,\n",
              " 0.20295554164057605,\n",
              " 0.20693800876643703,\n",
              " 0.20753913587977452,\n",
              " 0.19053224796493418,\n",
              " 0.1771321227301189,\n",
              " 0.17868503443957418,\n",
              " 0.18164057608015027]"
            ]
          },
          "metadata": {},
          "execution_count": 48
        }
      ]
    },
    {
      "cell_type": "code",
      "source": [
        "#demo for next 10 days\n",
        "from numpy import array\n",
        "lst_output = []\n",
        "n_steps = 100\n",
        "i=0\n",
        "while(i<30):\n",
        "\n",
        "  if(len(temp_input)>100):\n",
        "    #print(temp_input)\n",
        "    x_input = np.array(temp_input[1:])\n",
        "    print(\"{} day input {}\".format(i,x_input))\n",
        "    x_input = x_input.reshape(1,-1)\n",
        "    x_input = x_input.reshape((1, n_steps, 1))\n",
        "    #print(x_input)\n",
        "    yhat = model.predict(x_input, verbose=0)\n",
        "    print(\"{} day output {}\".format(i,yhat))\n",
        "    temp_input.extend(yhat[0].tolist())\n",
        "    temp_input = temp_input[1:]\n",
        "    #print(temp_input)\n",
        "    lst_output.extend(yhat.tolist())\n",
        "    i=i+1\n",
        "\n",
        "  else:\n",
        "    x_input = x_input.reshape((1, n_steps, 1))\n",
        "    yhat = model.predict(x_input, verbose=0)\n",
        "    print(yhat[0])\n",
        "    temp_input.extend(yhat[0].tolist())\n",
        "    print(len(temp_input))\n",
        "    lst_output.extend(yhat.tolist())\n",
        "    i=i+1\n",
        "\n",
        "print(lst_output)"
      ],
      "metadata": {
        "colab": {
          "base_uri": "https://localhost:8080/"
        },
        "id": "6h6_Qdfk2NF7",
        "outputId": "36823add-7a1b-42ae-c40f-b9dbaecdca8d"
      },
      "execution_count": 49,
      "outputs": [
        {
          "output_type": "stream",
          "name": "stdout",
          "text": [
            "[0.19325589]\n",
            "101\n",
            "1 day input [0.14980589 0.14572323 0.14649969 0.14259236 0.14256731 0.15421415\n",
            " 0.15739512 0.15716969 0.15453976 0.15180964 0.14765185 0.16713838\n",
            " 0.16696306 0.16262993 0.16710081 0.16758923 0.16463369 0.16338134\n",
            " 0.16338134 0.16493425 0.17084534 0.17112085 0.16871634 0.16210394\n",
            " 0.16280526 0.16568566 0.17179712 0.1764809  0.17635567 0.183469\n",
            " 0.18562304 0.18219161 0.18126487 0.17778334 0.18467126 0.18564809\n",
            " 0.19273638 0.19153413 0.19313713 0.19829681 0.19556669 0.19579211\n",
            " 0.19316218 0.20077646 0.19997495 0.19644333 0.20343143 0.20641202\n",
            " 0.20726362 0.21823419 0.2144521  0.21162179 0.21282405 0.20999374\n",
            " 0.20480902 0.20348153 0.20771446 0.20964308 0.21001879 0.21828428\n",
            " 0.21763306 0.2210645  0.21613024 0.21314966 0.21517846 0.21735755\n",
            " 0.21956168 0.21635567 0.22289292 0.22444584 0.22232937 0.21475266\n",
            " 0.21122104 0.18822793 0.18036318 0.18274264 0.17871008 0.17815905\n",
            " 0.1777082  0.18189105 0.17685661 0.17465247 0.1682154  0.16944271\n",
            " 0.17282405 0.17630557 0.18604884 0.17417658 0.17976205 0.18371947\n",
            " 0.19356293 0.20240451 0.20295554 0.20693801 0.20753914 0.19053225\n",
            " 0.17713212 0.17868503 0.18164058 0.19325589]\n",
            "1 day output [[0.19297567]]\n",
            "2 day input [0.14572323 0.14649969 0.14259236 0.14256731 0.15421415 0.15739512\n",
            " 0.15716969 0.15453976 0.15180964 0.14765185 0.16713838 0.16696306\n",
            " 0.16262993 0.16710081 0.16758923 0.16463369 0.16338134 0.16338134\n",
            " 0.16493425 0.17084534 0.17112085 0.16871634 0.16210394 0.16280526\n",
            " 0.16568566 0.17179712 0.1764809  0.17635567 0.183469   0.18562304\n",
            " 0.18219161 0.18126487 0.17778334 0.18467126 0.18564809 0.19273638\n",
            " 0.19153413 0.19313713 0.19829681 0.19556669 0.19579211 0.19316218\n",
            " 0.20077646 0.19997495 0.19644333 0.20343143 0.20641202 0.20726362\n",
            " 0.21823419 0.2144521  0.21162179 0.21282405 0.20999374 0.20480902\n",
            " 0.20348153 0.20771446 0.20964308 0.21001879 0.21828428 0.21763306\n",
            " 0.2210645  0.21613024 0.21314966 0.21517846 0.21735755 0.21956168\n",
            " 0.21635567 0.22289292 0.22444584 0.22232937 0.21475266 0.21122104\n",
            " 0.18822793 0.18036318 0.18274264 0.17871008 0.17815905 0.1777082\n",
            " 0.18189105 0.17685661 0.17465247 0.1682154  0.16944271 0.17282405\n",
            " 0.17630557 0.18604884 0.17417658 0.17976205 0.18371947 0.19356293\n",
            " 0.20240451 0.20295554 0.20693801 0.20753914 0.19053225 0.17713212\n",
            " 0.17868503 0.18164058 0.19325589 0.19297567]\n",
            "2 day output [[0.19271307]]\n",
            "3 day input [0.14649969 0.14259236 0.14256731 0.15421415 0.15739512 0.15716969\n",
            " 0.15453976 0.15180964 0.14765185 0.16713838 0.16696306 0.16262993\n",
            " 0.16710081 0.16758923 0.16463369 0.16338134 0.16338134 0.16493425\n",
            " 0.17084534 0.17112085 0.16871634 0.16210394 0.16280526 0.16568566\n",
            " 0.17179712 0.1764809  0.17635567 0.183469   0.18562304 0.18219161\n",
            " 0.18126487 0.17778334 0.18467126 0.18564809 0.19273638 0.19153413\n",
            " 0.19313713 0.19829681 0.19556669 0.19579211 0.19316218 0.20077646\n",
            " 0.19997495 0.19644333 0.20343143 0.20641202 0.20726362 0.21823419\n",
            " 0.2144521  0.21162179 0.21282405 0.20999374 0.20480902 0.20348153\n",
            " 0.20771446 0.20964308 0.21001879 0.21828428 0.21763306 0.2210645\n",
            " 0.21613024 0.21314966 0.21517846 0.21735755 0.21956168 0.21635567\n",
            " 0.22289292 0.22444584 0.22232937 0.21475266 0.21122104 0.18822793\n",
            " 0.18036318 0.18274264 0.17871008 0.17815905 0.1777082  0.18189105\n",
            " 0.17685661 0.17465247 0.1682154  0.16944271 0.17282405 0.17630557\n",
            " 0.18604884 0.17417658 0.17976205 0.18371947 0.19356293 0.20240451\n",
            " 0.20295554 0.20693801 0.20753914 0.19053225 0.17713212 0.17868503\n",
            " 0.18164058 0.19325589 0.19297567 0.19271307]\n",
            "3 day output [[0.19249585]]\n",
            "4 day input [0.14259236 0.14256731 0.15421415 0.15739512 0.15716969 0.15453976\n",
            " 0.15180964 0.14765185 0.16713838 0.16696306 0.16262993 0.16710081\n",
            " 0.16758923 0.16463369 0.16338134 0.16338134 0.16493425 0.17084534\n",
            " 0.17112085 0.16871634 0.16210394 0.16280526 0.16568566 0.17179712\n",
            " 0.1764809  0.17635567 0.183469   0.18562304 0.18219161 0.18126487\n",
            " 0.17778334 0.18467126 0.18564809 0.19273638 0.19153413 0.19313713\n",
            " 0.19829681 0.19556669 0.19579211 0.19316218 0.20077646 0.19997495\n",
            " 0.19644333 0.20343143 0.20641202 0.20726362 0.21823419 0.2144521\n",
            " 0.21162179 0.21282405 0.20999374 0.20480902 0.20348153 0.20771446\n",
            " 0.20964308 0.21001879 0.21828428 0.21763306 0.2210645  0.21613024\n",
            " 0.21314966 0.21517846 0.21735755 0.21956168 0.21635567 0.22289292\n",
            " 0.22444584 0.22232937 0.21475266 0.21122104 0.18822793 0.18036318\n",
            " 0.18274264 0.17871008 0.17815905 0.1777082  0.18189105 0.17685661\n",
            " 0.17465247 0.1682154  0.16944271 0.17282405 0.17630557 0.18604884\n",
            " 0.17417658 0.17976205 0.18371947 0.19356293 0.20240451 0.20295554\n",
            " 0.20693801 0.20753914 0.19053225 0.17713212 0.17868503 0.18164058\n",
            " 0.19325589 0.19297567 0.19271307 0.19249585]\n",
            "4 day output [[0.1923]]\n",
            "5 day input [0.14256731 0.15421415 0.15739512 0.15716969 0.15453976 0.15180964\n",
            " 0.14765185 0.16713838 0.16696306 0.16262993 0.16710081 0.16758923\n",
            " 0.16463369 0.16338134 0.16338134 0.16493425 0.17084534 0.17112085\n",
            " 0.16871634 0.16210394 0.16280526 0.16568566 0.17179712 0.1764809\n",
            " 0.17635567 0.183469   0.18562304 0.18219161 0.18126487 0.17778334\n",
            " 0.18467126 0.18564809 0.19273638 0.19153413 0.19313713 0.19829681\n",
            " 0.19556669 0.19579211 0.19316218 0.20077646 0.19997495 0.19644333\n",
            " 0.20343143 0.20641202 0.20726362 0.21823419 0.2144521  0.21162179\n",
            " 0.21282405 0.20999374 0.20480902 0.20348153 0.20771446 0.20964308\n",
            " 0.21001879 0.21828428 0.21763306 0.2210645  0.21613024 0.21314966\n",
            " 0.21517846 0.21735755 0.21956168 0.21635567 0.22289292 0.22444584\n",
            " 0.22232937 0.21475266 0.21122104 0.18822793 0.18036318 0.18274264\n",
            " 0.17871008 0.17815905 0.1777082  0.18189105 0.17685661 0.17465247\n",
            " 0.1682154  0.16944271 0.17282405 0.17630557 0.18604884 0.17417658\n",
            " 0.17976205 0.18371947 0.19356293 0.20240451 0.20295554 0.20693801\n",
            " 0.20753914 0.19053225 0.17713212 0.17868503 0.18164058 0.19325589\n",
            " 0.19297567 0.19271307 0.19249585 0.19230001]\n",
            "5 day output [[0.1920996]]\n",
            "6 day input [0.15421415 0.15739512 0.15716969 0.15453976 0.15180964 0.14765185\n",
            " 0.16713838 0.16696306 0.16262993 0.16710081 0.16758923 0.16463369\n",
            " 0.16338134 0.16338134 0.16493425 0.17084534 0.17112085 0.16871634\n",
            " 0.16210394 0.16280526 0.16568566 0.17179712 0.1764809  0.17635567\n",
            " 0.183469   0.18562304 0.18219161 0.18126487 0.17778334 0.18467126\n",
            " 0.18564809 0.19273638 0.19153413 0.19313713 0.19829681 0.19556669\n",
            " 0.19579211 0.19316218 0.20077646 0.19997495 0.19644333 0.20343143\n",
            " 0.20641202 0.20726362 0.21823419 0.2144521  0.21162179 0.21282405\n",
            " 0.20999374 0.20480902 0.20348153 0.20771446 0.20964308 0.21001879\n",
            " 0.21828428 0.21763306 0.2210645  0.21613024 0.21314966 0.21517846\n",
            " 0.21735755 0.21956168 0.21635567 0.22289292 0.22444584 0.22232937\n",
            " 0.21475266 0.21122104 0.18822793 0.18036318 0.18274264 0.17871008\n",
            " 0.17815905 0.1777082  0.18189105 0.17685661 0.17465247 0.1682154\n",
            " 0.16944271 0.17282405 0.17630557 0.18604884 0.17417658 0.17976205\n",
            " 0.18371947 0.19356293 0.20240451 0.20295554 0.20693801 0.20753914\n",
            " 0.19053225 0.17713212 0.17868503 0.18164058 0.19325589 0.19297567\n",
            " 0.19271307 0.19249585 0.19230001 0.1920996 ]\n",
            "6 day output [[0.19188131]]\n",
            "7 day input [0.15739512 0.15716969 0.15453976 0.15180964 0.14765185 0.16713838\n",
            " 0.16696306 0.16262993 0.16710081 0.16758923 0.16463369 0.16338134\n",
            " 0.16338134 0.16493425 0.17084534 0.17112085 0.16871634 0.16210394\n",
            " 0.16280526 0.16568566 0.17179712 0.1764809  0.17635567 0.183469\n",
            " 0.18562304 0.18219161 0.18126487 0.17778334 0.18467126 0.18564809\n",
            " 0.19273638 0.19153413 0.19313713 0.19829681 0.19556669 0.19579211\n",
            " 0.19316218 0.20077646 0.19997495 0.19644333 0.20343143 0.20641202\n",
            " 0.20726362 0.21823419 0.2144521  0.21162179 0.21282405 0.20999374\n",
            " 0.20480902 0.20348153 0.20771446 0.20964308 0.21001879 0.21828428\n",
            " 0.21763306 0.2210645  0.21613024 0.21314966 0.21517846 0.21735755\n",
            " 0.21956168 0.21635567 0.22289292 0.22444584 0.22232937 0.21475266\n",
            " 0.21122104 0.18822793 0.18036318 0.18274264 0.17871008 0.17815905\n",
            " 0.1777082  0.18189105 0.17685661 0.17465247 0.1682154  0.16944271\n",
            " 0.17282405 0.17630557 0.18604884 0.17417658 0.17976205 0.18371947\n",
            " 0.19356293 0.20240451 0.20295554 0.20693801 0.20753914 0.19053225\n",
            " 0.17713212 0.17868503 0.18164058 0.19325589 0.19297567 0.19271307\n",
            " 0.19249585 0.19230001 0.1920996  0.19188131]\n",
            "7 day output [[0.19164427]]\n",
            "8 day input [0.15716969 0.15453976 0.15180964 0.14765185 0.16713838 0.16696306\n",
            " 0.16262993 0.16710081 0.16758923 0.16463369 0.16338134 0.16338134\n",
            " 0.16493425 0.17084534 0.17112085 0.16871634 0.16210394 0.16280526\n",
            " 0.16568566 0.17179712 0.1764809  0.17635567 0.183469   0.18562304\n",
            " 0.18219161 0.18126487 0.17778334 0.18467126 0.18564809 0.19273638\n",
            " 0.19153413 0.19313713 0.19829681 0.19556669 0.19579211 0.19316218\n",
            " 0.20077646 0.19997495 0.19644333 0.20343143 0.20641202 0.20726362\n",
            " 0.21823419 0.2144521  0.21162179 0.21282405 0.20999374 0.20480902\n",
            " 0.20348153 0.20771446 0.20964308 0.21001879 0.21828428 0.21763306\n",
            " 0.2210645  0.21613024 0.21314966 0.21517846 0.21735755 0.21956168\n",
            " 0.21635567 0.22289292 0.22444584 0.22232937 0.21475266 0.21122104\n",
            " 0.18822793 0.18036318 0.18274264 0.17871008 0.17815905 0.1777082\n",
            " 0.18189105 0.17685661 0.17465247 0.1682154  0.16944271 0.17282405\n",
            " 0.17630557 0.18604884 0.17417658 0.17976205 0.18371947 0.19356293\n",
            " 0.20240451 0.20295554 0.20693801 0.20753914 0.19053225 0.17713212\n",
            " 0.17868503 0.18164058 0.19325589 0.19297567 0.19271307 0.19249585\n",
            " 0.19230001 0.1920996  0.19188131 0.19164427]\n",
            "8 day output [[0.19139564]]\n",
            "9 day input [0.15453976 0.15180964 0.14765185 0.16713838 0.16696306 0.16262993\n",
            " 0.16710081 0.16758923 0.16463369 0.16338134 0.16338134 0.16493425\n",
            " 0.17084534 0.17112085 0.16871634 0.16210394 0.16280526 0.16568566\n",
            " 0.17179712 0.1764809  0.17635567 0.183469   0.18562304 0.18219161\n",
            " 0.18126487 0.17778334 0.18467126 0.18564809 0.19273638 0.19153413\n",
            " 0.19313713 0.19829681 0.19556669 0.19579211 0.19316218 0.20077646\n",
            " 0.19997495 0.19644333 0.20343143 0.20641202 0.20726362 0.21823419\n",
            " 0.2144521  0.21162179 0.21282405 0.20999374 0.20480902 0.20348153\n",
            " 0.20771446 0.20964308 0.21001879 0.21828428 0.21763306 0.2210645\n",
            " 0.21613024 0.21314966 0.21517846 0.21735755 0.21956168 0.21635567\n",
            " 0.22289292 0.22444584 0.22232937 0.21475266 0.21122104 0.18822793\n",
            " 0.18036318 0.18274264 0.17871008 0.17815905 0.1777082  0.18189105\n",
            " 0.17685661 0.17465247 0.1682154  0.16944271 0.17282405 0.17630557\n",
            " 0.18604884 0.17417658 0.17976205 0.18371947 0.19356293 0.20240451\n",
            " 0.20295554 0.20693801 0.20753914 0.19053225 0.17713212 0.17868503\n",
            " 0.18164058 0.19325589 0.19297567 0.19271307 0.19249585 0.19230001\n",
            " 0.1920996  0.19188131 0.19164427 0.19139564]\n",
            "9 day output [[0.19114606]]\n",
            "10 day input [0.15180964 0.14765185 0.16713838 0.16696306 0.16262993 0.16710081\n",
            " 0.16758923 0.16463369 0.16338134 0.16338134 0.16493425 0.17084534\n",
            " 0.17112085 0.16871634 0.16210394 0.16280526 0.16568566 0.17179712\n",
            " 0.1764809  0.17635567 0.183469   0.18562304 0.18219161 0.18126487\n",
            " 0.17778334 0.18467126 0.18564809 0.19273638 0.19153413 0.19313713\n",
            " 0.19829681 0.19556669 0.19579211 0.19316218 0.20077646 0.19997495\n",
            " 0.19644333 0.20343143 0.20641202 0.20726362 0.21823419 0.2144521\n",
            " 0.21162179 0.21282405 0.20999374 0.20480902 0.20348153 0.20771446\n",
            " 0.20964308 0.21001879 0.21828428 0.21763306 0.2210645  0.21613024\n",
            " 0.21314966 0.21517846 0.21735755 0.21956168 0.21635567 0.22289292\n",
            " 0.22444584 0.22232937 0.21475266 0.21122104 0.18822793 0.18036318\n",
            " 0.18274264 0.17871008 0.17815905 0.1777082  0.18189105 0.17685661\n",
            " 0.17465247 0.1682154  0.16944271 0.17282405 0.17630557 0.18604884\n",
            " 0.17417658 0.17976205 0.18371947 0.19356293 0.20240451 0.20295554\n",
            " 0.20693801 0.20753914 0.19053225 0.17713212 0.17868503 0.18164058\n",
            " 0.19325589 0.19297567 0.19271307 0.19249585 0.19230001 0.1920996\n",
            " 0.19188131 0.19164427 0.19139564 0.19114606]\n",
            "10 day output [[0.19090612]]\n",
            "11 day input [0.14765185 0.16713838 0.16696306 0.16262993 0.16710081 0.16758923\n",
            " 0.16463369 0.16338134 0.16338134 0.16493425 0.17084534 0.17112085\n",
            " 0.16871634 0.16210394 0.16280526 0.16568566 0.17179712 0.1764809\n",
            " 0.17635567 0.183469   0.18562304 0.18219161 0.18126487 0.17778334\n",
            " 0.18467126 0.18564809 0.19273638 0.19153413 0.19313713 0.19829681\n",
            " 0.19556669 0.19579211 0.19316218 0.20077646 0.19997495 0.19644333\n",
            " 0.20343143 0.20641202 0.20726362 0.21823419 0.2144521  0.21162179\n",
            " 0.21282405 0.20999374 0.20480902 0.20348153 0.20771446 0.20964308\n",
            " 0.21001879 0.21828428 0.21763306 0.2210645  0.21613024 0.21314966\n",
            " 0.21517846 0.21735755 0.21956168 0.21635567 0.22289292 0.22444584\n",
            " 0.22232937 0.21475266 0.21122104 0.18822793 0.18036318 0.18274264\n",
            " 0.17871008 0.17815905 0.1777082  0.18189105 0.17685661 0.17465247\n",
            " 0.1682154  0.16944271 0.17282405 0.17630557 0.18604884 0.17417658\n",
            " 0.17976205 0.18371947 0.19356293 0.20240451 0.20295554 0.20693801\n",
            " 0.20753914 0.19053225 0.17713212 0.17868503 0.18164058 0.19325589\n",
            " 0.19297567 0.19271307 0.19249585 0.19230001 0.1920996  0.19188131\n",
            " 0.19164427 0.19139564 0.19114606 0.19090612]\n",
            "11 day output [[0.19068448]]\n",
            "12 day input [0.16713838 0.16696306 0.16262993 0.16710081 0.16758923 0.16463369\n",
            " 0.16338134 0.16338134 0.16493425 0.17084534 0.17112085 0.16871634\n",
            " 0.16210394 0.16280526 0.16568566 0.17179712 0.1764809  0.17635567\n",
            " 0.183469   0.18562304 0.18219161 0.18126487 0.17778334 0.18467126\n",
            " 0.18564809 0.19273638 0.19153413 0.19313713 0.19829681 0.19556669\n",
            " 0.19579211 0.19316218 0.20077646 0.19997495 0.19644333 0.20343143\n",
            " 0.20641202 0.20726362 0.21823419 0.2144521  0.21162179 0.21282405\n",
            " 0.20999374 0.20480902 0.20348153 0.20771446 0.20964308 0.21001879\n",
            " 0.21828428 0.21763306 0.2210645  0.21613024 0.21314966 0.21517846\n",
            " 0.21735755 0.21956168 0.21635567 0.22289292 0.22444584 0.22232937\n",
            " 0.21475266 0.21122104 0.18822793 0.18036318 0.18274264 0.17871008\n",
            " 0.17815905 0.1777082  0.18189105 0.17685661 0.17465247 0.1682154\n",
            " 0.16944271 0.17282405 0.17630557 0.18604884 0.17417658 0.17976205\n",
            " 0.18371947 0.19356293 0.20240451 0.20295554 0.20693801 0.20753914\n",
            " 0.19053225 0.17713212 0.17868503 0.18164058 0.19325589 0.19297567\n",
            " 0.19271307 0.19249585 0.19230001 0.1920996  0.19188131 0.19164427\n",
            " 0.19139564 0.19114606 0.19090612 0.19068448]\n",
            "12 day output [[0.19048706]]\n",
            "13 day input [0.16696306 0.16262993 0.16710081 0.16758923 0.16463369 0.16338134\n",
            " 0.16338134 0.16493425 0.17084534 0.17112085 0.16871634 0.16210394\n",
            " 0.16280526 0.16568566 0.17179712 0.1764809  0.17635567 0.183469\n",
            " 0.18562304 0.18219161 0.18126487 0.17778334 0.18467126 0.18564809\n",
            " 0.19273638 0.19153413 0.19313713 0.19829681 0.19556669 0.19579211\n",
            " 0.19316218 0.20077646 0.19997495 0.19644333 0.20343143 0.20641202\n",
            " 0.20726362 0.21823419 0.2144521  0.21162179 0.21282405 0.20999374\n",
            " 0.20480902 0.20348153 0.20771446 0.20964308 0.21001879 0.21828428\n",
            " 0.21763306 0.2210645  0.21613024 0.21314966 0.21517846 0.21735755\n",
            " 0.21956168 0.21635567 0.22289292 0.22444584 0.22232937 0.21475266\n",
            " 0.21122104 0.18822793 0.18036318 0.18274264 0.17871008 0.17815905\n",
            " 0.1777082  0.18189105 0.17685661 0.17465247 0.1682154  0.16944271\n",
            " 0.17282405 0.17630557 0.18604884 0.17417658 0.17976205 0.18371947\n",
            " 0.19356293 0.20240451 0.20295554 0.20693801 0.20753914 0.19053225\n",
            " 0.17713212 0.17868503 0.18164058 0.19325589 0.19297567 0.19271307\n",
            " 0.19249585 0.19230001 0.1920996  0.19188131 0.19164427 0.19139564\n",
            " 0.19114606 0.19090612 0.19068448 0.19048706]\n",
            "13 day output [[0.1903168]]\n",
            "14 day input [0.16262993 0.16710081 0.16758923 0.16463369 0.16338134 0.16338134\n",
            " 0.16493425 0.17084534 0.17112085 0.16871634 0.16210394 0.16280526\n",
            " 0.16568566 0.17179712 0.1764809  0.17635567 0.183469   0.18562304\n",
            " 0.18219161 0.18126487 0.17778334 0.18467126 0.18564809 0.19273638\n",
            " 0.19153413 0.19313713 0.19829681 0.19556669 0.19579211 0.19316218\n",
            " 0.20077646 0.19997495 0.19644333 0.20343143 0.20641202 0.20726362\n",
            " 0.21823419 0.2144521  0.21162179 0.21282405 0.20999374 0.20480902\n",
            " 0.20348153 0.20771446 0.20964308 0.21001879 0.21828428 0.21763306\n",
            " 0.2210645  0.21613024 0.21314966 0.21517846 0.21735755 0.21956168\n",
            " 0.21635567 0.22289292 0.22444584 0.22232937 0.21475266 0.21122104\n",
            " 0.18822793 0.18036318 0.18274264 0.17871008 0.17815905 0.1777082\n",
            " 0.18189105 0.17685661 0.17465247 0.1682154  0.16944271 0.17282405\n",
            " 0.17630557 0.18604884 0.17417658 0.17976205 0.18371947 0.19356293\n",
            " 0.20240451 0.20295554 0.20693801 0.20753914 0.19053225 0.17713212\n",
            " 0.17868503 0.18164058 0.19325589 0.19297567 0.19271307 0.19249585\n",
            " 0.19230001 0.1920996  0.19188131 0.19164427 0.19139564 0.19114606\n",
            " 0.19090612 0.19068448 0.19048706 0.1903168 ]\n",
            "14 day output [[0.19017428]]\n",
            "15 day input [0.16710081 0.16758923 0.16463369 0.16338134 0.16338134 0.16493425\n",
            " 0.17084534 0.17112085 0.16871634 0.16210394 0.16280526 0.16568566\n",
            " 0.17179712 0.1764809  0.17635567 0.183469   0.18562304 0.18219161\n",
            " 0.18126487 0.17778334 0.18467126 0.18564809 0.19273638 0.19153413\n",
            " 0.19313713 0.19829681 0.19556669 0.19579211 0.19316218 0.20077646\n",
            " 0.19997495 0.19644333 0.20343143 0.20641202 0.20726362 0.21823419\n",
            " 0.2144521  0.21162179 0.21282405 0.20999374 0.20480902 0.20348153\n",
            " 0.20771446 0.20964308 0.21001879 0.21828428 0.21763306 0.2210645\n",
            " 0.21613024 0.21314966 0.21517846 0.21735755 0.21956168 0.21635567\n",
            " 0.22289292 0.22444584 0.22232937 0.21475266 0.21122104 0.18822793\n",
            " 0.18036318 0.18274264 0.17871008 0.17815905 0.1777082  0.18189105\n",
            " 0.17685661 0.17465247 0.1682154  0.16944271 0.17282405 0.17630557\n",
            " 0.18604884 0.17417658 0.17976205 0.18371947 0.19356293 0.20240451\n",
            " 0.20295554 0.20693801 0.20753914 0.19053225 0.17713212 0.17868503\n",
            " 0.18164058 0.19325589 0.19297567 0.19271307 0.19249585 0.19230001\n",
            " 0.1920996  0.19188131 0.19164427 0.19139564 0.19114606 0.19090612\n",
            " 0.19068448 0.19048706 0.1903168  0.19017428]\n",
            "15 day output [[0.19005813]]\n",
            "16 day input [0.16758923 0.16463369 0.16338134 0.16338134 0.16493425 0.17084534\n",
            " 0.17112085 0.16871634 0.16210394 0.16280526 0.16568566 0.17179712\n",
            " 0.1764809  0.17635567 0.183469   0.18562304 0.18219161 0.18126487\n",
            " 0.17778334 0.18467126 0.18564809 0.19273638 0.19153413 0.19313713\n",
            " 0.19829681 0.19556669 0.19579211 0.19316218 0.20077646 0.19997495\n",
            " 0.19644333 0.20343143 0.20641202 0.20726362 0.21823419 0.2144521\n",
            " 0.21162179 0.21282405 0.20999374 0.20480902 0.20348153 0.20771446\n",
            " 0.20964308 0.21001879 0.21828428 0.21763306 0.2210645  0.21613024\n",
            " 0.21314966 0.21517846 0.21735755 0.21956168 0.21635567 0.22289292\n",
            " 0.22444584 0.22232937 0.21475266 0.21122104 0.18822793 0.18036318\n",
            " 0.18274264 0.17871008 0.17815905 0.1777082  0.18189105 0.17685661\n",
            " 0.17465247 0.1682154  0.16944271 0.17282405 0.17630557 0.18604884\n",
            " 0.17417658 0.17976205 0.18371947 0.19356293 0.20240451 0.20295554\n",
            " 0.20693801 0.20753914 0.19053225 0.17713212 0.17868503 0.18164058\n",
            " 0.19325589 0.19297567 0.19271307 0.19249585 0.19230001 0.1920996\n",
            " 0.19188131 0.19164427 0.19139564 0.19114606 0.19090612 0.19068448\n",
            " 0.19048706 0.1903168  0.19017428 0.19005813]\n",
            "16 day output [[0.18996556]]\n",
            "17 day input [0.16463369 0.16338134 0.16338134 0.16493425 0.17084534 0.17112085\n",
            " 0.16871634 0.16210394 0.16280526 0.16568566 0.17179712 0.1764809\n",
            " 0.17635567 0.183469   0.18562304 0.18219161 0.18126487 0.17778334\n",
            " 0.18467126 0.18564809 0.19273638 0.19153413 0.19313713 0.19829681\n",
            " 0.19556669 0.19579211 0.19316218 0.20077646 0.19997495 0.19644333\n",
            " 0.20343143 0.20641202 0.20726362 0.21823419 0.2144521  0.21162179\n",
            " 0.21282405 0.20999374 0.20480902 0.20348153 0.20771446 0.20964308\n",
            " 0.21001879 0.21828428 0.21763306 0.2210645  0.21613024 0.21314966\n",
            " 0.21517846 0.21735755 0.21956168 0.21635567 0.22289292 0.22444584\n",
            " 0.22232937 0.21475266 0.21122104 0.18822793 0.18036318 0.18274264\n",
            " 0.17871008 0.17815905 0.1777082  0.18189105 0.17685661 0.17465247\n",
            " 0.1682154  0.16944271 0.17282405 0.17630557 0.18604884 0.17417658\n",
            " 0.17976205 0.18371947 0.19356293 0.20240451 0.20295554 0.20693801\n",
            " 0.20753914 0.19053225 0.17713212 0.17868503 0.18164058 0.19325589\n",
            " 0.19297567 0.19271307 0.19249585 0.19230001 0.1920996  0.19188131\n",
            " 0.19164427 0.19139564 0.19114606 0.19090612 0.19068448 0.19048706\n",
            " 0.1903168  0.19017428 0.19005813 0.18996556]\n",
            "17 day output [[0.1898931]]\n",
            "18 day input [0.16338134 0.16338134 0.16493425 0.17084534 0.17112085 0.16871634\n",
            " 0.16210394 0.16280526 0.16568566 0.17179712 0.1764809  0.17635567\n",
            " 0.183469   0.18562304 0.18219161 0.18126487 0.17778334 0.18467126\n",
            " 0.18564809 0.19273638 0.19153413 0.19313713 0.19829681 0.19556669\n",
            " 0.19579211 0.19316218 0.20077646 0.19997495 0.19644333 0.20343143\n",
            " 0.20641202 0.20726362 0.21823419 0.2144521  0.21162179 0.21282405\n",
            " 0.20999374 0.20480902 0.20348153 0.20771446 0.20964308 0.21001879\n",
            " 0.21828428 0.21763306 0.2210645  0.21613024 0.21314966 0.21517846\n",
            " 0.21735755 0.21956168 0.21635567 0.22289292 0.22444584 0.22232937\n",
            " 0.21475266 0.21122104 0.18822793 0.18036318 0.18274264 0.17871008\n",
            " 0.17815905 0.1777082  0.18189105 0.17685661 0.17465247 0.1682154\n",
            " 0.16944271 0.17282405 0.17630557 0.18604884 0.17417658 0.17976205\n",
            " 0.18371947 0.19356293 0.20240451 0.20295554 0.20693801 0.20753914\n",
            " 0.19053225 0.17713212 0.17868503 0.18164058 0.19325589 0.19297567\n",
            " 0.19271307 0.19249585 0.19230001 0.1920996  0.19188131 0.19164427\n",
            " 0.19139564 0.19114606 0.19090612 0.19068448 0.19048706 0.1903168\n",
            " 0.19017428 0.19005813 0.18996556 0.1898931 ]\n",
            "18 day output [[0.18983681]]\n",
            "19 day input [0.16338134 0.16493425 0.17084534 0.17112085 0.16871634 0.16210394\n",
            " 0.16280526 0.16568566 0.17179712 0.1764809  0.17635567 0.183469\n",
            " 0.18562304 0.18219161 0.18126487 0.17778334 0.18467126 0.18564809\n",
            " 0.19273638 0.19153413 0.19313713 0.19829681 0.19556669 0.19579211\n",
            " 0.19316218 0.20077646 0.19997495 0.19644333 0.20343143 0.20641202\n",
            " 0.20726362 0.21823419 0.2144521  0.21162179 0.21282405 0.20999374\n",
            " 0.20480902 0.20348153 0.20771446 0.20964308 0.21001879 0.21828428\n",
            " 0.21763306 0.2210645  0.21613024 0.21314966 0.21517846 0.21735755\n",
            " 0.21956168 0.21635567 0.22289292 0.22444584 0.22232937 0.21475266\n",
            " 0.21122104 0.18822793 0.18036318 0.18274264 0.17871008 0.17815905\n",
            " 0.1777082  0.18189105 0.17685661 0.17465247 0.1682154  0.16944271\n",
            " 0.17282405 0.17630557 0.18604884 0.17417658 0.17976205 0.18371947\n",
            " 0.19356293 0.20240451 0.20295554 0.20693801 0.20753914 0.19053225\n",
            " 0.17713212 0.17868503 0.18164058 0.19325589 0.19297567 0.19271307\n",
            " 0.19249585 0.19230001 0.1920996  0.19188131 0.19164427 0.19139564\n",
            " 0.19114606 0.19090612 0.19068448 0.19048706 0.1903168  0.19017428\n",
            " 0.19005813 0.18996556 0.1898931  0.18983681]\n",
            "19 day output [[0.1897931]]\n",
            "20 day input [0.16493425 0.17084534 0.17112085 0.16871634 0.16210394 0.16280526\n",
            " 0.16568566 0.17179712 0.1764809  0.17635567 0.183469   0.18562304\n",
            " 0.18219161 0.18126487 0.17778334 0.18467126 0.18564809 0.19273638\n",
            " 0.19153413 0.19313713 0.19829681 0.19556669 0.19579211 0.19316218\n",
            " 0.20077646 0.19997495 0.19644333 0.20343143 0.20641202 0.20726362\n",
            " 0.21823419 0.2144521  0.21162179 0.21282405 0.20999374 0.20480902\n",
            " 0.20348153 0.20771446 0.20964308 0.21001879 0.21828428 0.21763306\n",
            " 0.2210645  0.21613024 0.21314966 0.21517846 0.21735755 0.21956168\n",
            " 0.21635567 0.22289292 0.22444584 0.22232937 0.21475266 0.21122104\n",
            " 0.18822793 0.18036318 0.18274264 0.17871008 0.17815905 0.1777082\n",
            " 0.18189105 0.17685661 0.17465247 0.1682154  0.16944271 0.17282405\n",
            " 0.17630557 0.18604884 0.17417658 0.17976205 0.18371947 0.19356293\n",
            " 0.20240451 0.20295554 0.20693801 0.20753914 0.19053225 0.17713212\n",
            " 0.17868503 0.18164058 0.19325589 0.19297567 0.19271307 0.19249585\n",
            " 0.19230001 0.1920996  0.19188131 0.19164427 0.19139564 0.19114606\n",
            " 0.19090612 0.19068448 0.19048706 0.1903168  0.19017428 0.19005813\n",
            " 0.18996556 0.1898931  0.18983681 0.18979309]\n",
            "20 day output [[0.18975838]]\n",
            "21 day input [0.17084534 0.17112085 0.16871634 0.16210394 0.16280526 0.16568566\n",
            " 0.17179712 0.1764809  0.17635567 0.183469   0.18562304 0.18219161\n",
            " 0.18126487 0.17778334 0.18467126 0.18564809 0.19273638 0.19153413\n",
            " 0.19313713 0.19829681 0.19556669 0.19579211 0.19316218 0.20077646\n",
            " 0.19997495 0.19644333 0.20343143 0.20641202 0.20726362 0.21823419\n",
            " 0.2144521  0.21162179 0.21282405 0.20999374 0.20480902 0.20348153\n",
            " 0.20771446 0.20964308 0.21001879 0.21828428 0.21763306 0.2210645\n",
            " 0.21613024 0.21314966 0.21517846 0.21735755 0.21956168 0.21635567\n",
            " 0.22289292 0.22444584 0.22232937 0.21475266 0.21122104 0.18822793\n",
            " 0.18036318 0.18274264 0.17871008 0.17815905 0.1777082  0.18189105\n",
            " 0.17685661 0.17465247 0.1682154  0.16944271 0.17282405 0.17630557\n",
            " 0.18604884 0.17417658 0.17976205 0.18371947 0.19356293 0.20240451\n",
            " 0.20295554 0.20693801 0.20753914 0.19053225 0.17713212 0.17868503\n",
            " 0.18164058 0.19325589 0.19297567 0.19271307 0.19249585 0.19230001\n",
            " 0.1920996  0.19188131 0.19164427 0.19139564 0.19114606 0.19090612\n",
            " 0.19068448 0.19048706 0.1903168  0.19017428 0.19005813 0.18996556\n",
            " 0.1898931  0.18983681 0.18979309 0.18975838]\n",
            "21 day output [[0.18972968]]\n",
            "22 day input [0.17112085 0.16871634 0.16210394 0.16280526 0.16568566 0.17179712\n",
            " 0.1764809  0.17635567 0.183469   0.18562304 0.18219161 0.18126487\n",
            " 0.17778334 0.18467126 0.18564809 0.19273638 0.19153413 0.19313713\n",
            " 0.19829681 0.19556669 0.19579211 0.19316218 0.20077646 0.19997495\n",
            " 0.19644333 0.20343143 0.20641202 0.20726362 0.21823419 0.2144521\n",
            " 0.21162179 0.21282405 0.20999374 0.20480902 0.20348153 0.20771446\n",
            " 0.20964308 0.21001879 0.21828428 0.21763306 0.2210645  0.21613024\n",
            " 0.21314966 0.21517846 0.21735755 0.21956168 0.21635567 0.22289292\n",
            " 0.22444584 0.22232937 0.21475266 0.21122104 0.18822793 0.18036318\n",
            " 0.18274264 0.17871008 0.17815905 0.1777082  0.18189105 0.17685661\n",
            " 0.17465247 0.1682154  0.16944271 0.17282405 0.17630557 0.18604884\n",
            " 0.17417658 0.17976205 0.18371947 0.19356293 0.20240451 0.20295554\n",
            " 0.20693801 0.20753914 0.19053225 0.17713212 0.17868503 0.18164058\n",
            " 0.19325589 0.19297567 0.19271307 0.19249585 0.19230001 0.1920996\n",
            " 0.19188131 0.19164427 0.19139564 0.19114606 0.19090612 0.19068448\n",
            " 0.19048706 0.1903168  0.19017428 0.19005813 0.18996556 0.1898931\n",
            " 0.18983681 0.18979309 0.18975838 0.18972968]\n",
            "22 day output [[0.18970439]]\n",
            "23 day input [0.16871634 0.16210394 0.16280526 0.16568566 0.17179712 0.1764809\n",
            " 0.17635567 0.183469   0.18562304 0.18219161 0.18126487 0.17778334\n",
            " 0.18467126 0.18564809 0.19273638 0.19153413 0.19313713 0.19829681\n",
            " 0.19556669 0.19579211 0.19316218 0.20077646 0.19997495 0.19644333\n",
            " 0.20343143 0.20641202 0.20726362 0.21823419 0.2144521  0.21162179\n",
            " 0.21282405 0.20999374 0.20480902 0.20348153 0.20771446 0.20964308\n",
            " 0.21001879 0.21828428 0.21763306 0.2210645  0.21613024 0.21314966\n",
            " 0.21517846 0.21735755 0.21956168 0.21635567 0.22289292 0.22444584\n",
            " 0.22232937 0.21475266 0.21122104 0.18822793 0.18036318 0.18274264\n",
            " 0.17871008 0.17815905 0.1777082  0.18189105 0.17685661 0.17465247\n",
            " 0.1682154  0.16944271 0.17282405 0.17630557 0.18604884 0.17417658\n",
            " 0.17976205 0.18371947 0.19356293 0.20240451 0.20295554 0.20693801\n",
            " 0.20753914 0.19053225 0.17713212 0.17868503 0.18164058 0.19325589\n",
            " 0.19297567 0.19271307 0.19249585 0.19230001 0.1920996  0.19188131\n",
            " 0.19164427 0.19139564 0.19114606 0.19090612 0.19068448 0.19048706\n",
            " 0.1903168  0.19017428 0.19005813 0.18996556 0.1898931  0.18983681\n",
            " 0.18979309 0.18975838 0.18972968 0.18970439]\n",
            "23 day output [[0.18968053]]\n",
            "24 day input [0.16210394 0.16280526 0.16568566 0.17179712 0.1764809  0.17635567\n",
            " 0.183469   0.18562304 0.18219161 0.18126487 0.17778334 0.18467126\n",
            " 0.18564809 0.19273638 0.19153413 0.19313713 0.19829681 0.19556669\n",
            " 0.19579211 0.19316218 0.20077646 0.19997495 0.19644333 0.20343143\n",
            " 0.20641202 0.20726362 0.21823419 0.2144521  0.21162179 0.21282405\n",
            " 0.20999374 0.20480902 0.20348153 0.20771446 0.20964308 0.21001879\n",
            " 0.21828428 0.21763306 0.2210645  0.21613024 0.21314966 0.21517846\n",
            " 0.21735755 0.21956168 0.21635567 0.22289292 0.22444584 0.22232937\n",
            " 0.21475266 0.21122104 0.18822793 0.18036318 0.18274264 0.17871008\n",
            " 0.17815905 0.1777082  0.18189105 0.17685661 0.17465247 0.1682154\n",
            " 0.16944271 0.17282405 0.17630557 0.18604884 0.17417658 0.17976205\n",
            " 0.18371947 0.19356293 0.20240451 0.20295554 0.20693801 0.20753914\n",
            " 0.19053225 0.17713212 0.17868503 0.18164058 0.19325589 0.19297567\n",
            " 0.19271307 0.19249585 0.19230001 0.1920996  0.19188131 0.19164427\n",
            " 0.19139564 0.19114606 0.19090612 0.19068448 0.19048706 0.1903168\n",
            " 0.19017428 0.19005813 0.18996556 0.1898931  0.18983681 0.18979309\n",
            " 0.18975838 0.18972968 0.18970439 0.18968053]\n",
            "24 day output [[0.18965656]]\n",
            "25 day input [0.16280526 0.16568566 0.17179712 0.1764809  0.17635567 0.183469\n",
            " 0.18562304 0.18219161 0.18126487 0.17778334 0.18467126 0.18564809\n",
            " 0.19273638 0.19153413 0.19313713 0.19829681 0.19556669 0.19579211\n",
            " 0.19316218 0.20077646 0.19997495 0.19644333 0.20343143 0.20641202\n",
            " 0.20726362 0.21823419 0.2144521  0.21162179 0.21282405 0.20999374\n",
            " 0.20480902 0.20348153 0.20771446 0.20964308 0.21001879 0.21828428\n",
            " 0.21763306 0.2210645  0.21613024 0.21314966 0.21517846 0.21735755\n",
            " 0.21956168 0.21635567 0.22289292 0.22444584 0.22232937 0.21475266\n",
            " 0.21122104 0.18822793 0.18036318 0.18274264 0.17871008 0.17815905\n",
            " 0.1777082  0.18189105 0.17685661 0.17465247 0.1682154  0.16944271\n",
            " 0.17282405 0.17630557 0.18604884 0.17417658 0.17976205 0.18371947\n",
            " 0.19356293 0.20240451 0.20295554 0.20693801 0.20753914 0.19053225\n",
            " 0.17713212 0.17868503 0.18164058 0.19325589 0.19297567 0.19271307\n",
            " 0.19249585 0.19230001 0.1920996  0.19188131 0.19164427 0.19139564\n",
            " 0.19114606 0.19090612 0.19068448 0.19048706 0.1903168  0.19017428\n",
            " 0.19005813 0.18996556 0.1898931  0.18983681 0.18979309 0.18975838\n",
            " 0.18972968 0.18970439 0.18968053 0.18965656]\n",
            "25 day output [[0.1896314]]\n",
            "26 day input [0.16568566 0.17179712 0.1764809  0.17635567 0.183469   0.18562304\n",
            " 0.18219161 0.18126487 0.17778334 0.18467126 0.18564809 0.19273638\n",
            " 0.19153413 0.19313713 0.19829681 0.19556669 0.19579211 0.19316218\n",
            " 0.20077646 0.19997495 0.19644333 0.20343143 0.20641202 0.20726362\n",
            " 0.21823419 0.2144521  0.21162179 0.21282405 0.20999374 0.20480902\n",
            " 0.20348153 0.20771446 0.20964308 0.21001879 0.21828428 0.21763306\n",
            " 0.2210645  0.21613024 0.21314966 0.21517846 0.21735755 0.21956168\n",
            " 0.21635567 0.22289292 0.22444584 0.22232937 0.21475266 0.21122104\n",
            " 0.18822793 0.18036318 0.18274264 0.17871008 0.17815905 0.1777082\n",
            " 0.18189105 0.17685661 0.17465247 0.1682154  0.16944271 0.17282405\n",
            " 0.17630557 0.18604884 0.17417658 0.17976205 0.18371947 0.19356293\n",
            " 0.20240451 0.20295554 0.20693801 0.20753914 0.19053225 0.17713212\n",
            " 0.17868503 0.18164058 0.19325589 0.19297567 0.19271307 0.19249585\n",
            " 0.19230001 0.1920996  0.19188131 0.19164427 0.19139564 0.19114606\n",
            " 0.19090612 0.19068448 0.19048706 0.1903168  0.19017428 0.19005813\n",
            " 0.18996556 0.1898931  0.18983681 0.18979309 0.18975838 0.18972968\n",
            " 0.18970439 0.18968053 0.18965656 0.1896314 ]\n",
            "26 day output [[0.18960434]]\n",
            "27 day input [0.17179712 0.1764809  0.17635567 0.183469   0.18562304 0.18219161\n",
            " 0.18126487 0.17778334 0.18467126 0.18564809 0.19273638 0.19153413\n",
            " 0.19313713 0.19829681 0.19556669 0.19579211 0.19316218 0.20077646\n",
            " 0.19997495 0.19644333 0.20343143 0.20641202 0.20726362 0.21823419\n",
            " 0.2144521  0.21162179 0.21282405 0.20999374 0.20480902 0.20348153\n",
            " 0.20771446 0.20964308 0.21001879 0.21828428 0.21763306 0.2210645\n",
            " 0.21613024 0.21314966 0.21517846 0.21735755 0.21956168 0.21635567\n",
            " 0.22289292 0.22444584 0.22232937 0.21475266 0.21122104 0.18822793\n",
            " 0.18036318 0.18274264 0.17871008 0.17815905 0.1777082  0.18189105\n",
            " 0.17685661 0.17465247 0.1682154  0.16944271 0.17282405 0.17630557\n",
            " 0.18604884 0.17417658 0.17976205 0.18371947 0.19356293 0.20240451\n",
            " 0.20295554 0.20693801 0.20753914 0.19053225 0.17713212 0.17868503\n",
            " 0.18164058 0.19325589 0.19297567 0.19271307 0.19249585 0.19230001\n",
            " 0.1920996  0.19188131 0.19164427 0.19139564 0.19114606 0.19090612\n",
            " 0.19068448 0.19048706 0.1903168  0.19017428 0.19005813 0.18996556\n",
            " 0.1898931  0.18983681 0.18979309 0.18975838 0.18972968 0.18970439\n",
            " 0.18968053 0.18965656 0.1896314  0.18960434]\n",
            "27 day output [[0.18957491]]\n",
            "28 day input [0.1764809  0.17635567 0.183469   0.18562304 0.18219161 0.18126487\n",
            " 0.17778334 0.18467126 0.18564809 0.19273638 0.19153413 0.19313713\n",
            " 0.19829681 0.19556669 0.19579211 0.19316218 0.20077646 0.19997495\n",
            " 0.19644333 0.20343143 0.20641202 0.20726362 0.21823419 0.2144521\n",
            " 0.21162179 0.21282405 0.20999374 0.20480902 0.20348153 0.20771446\n",
            " 0.20964308 0.21001879 0.21828428 0.21763306 0.2210645  0.21613024\n",
            " 0.21314966 0.21517846 0.21735755 0.21956168 0.21635567 0.22289292\n",
            " 0.22444584 0.22232937 0.21475266 0.21122104 0.18822793 0.18036318\n",
            " 0.18274264 0.17871008 0.17815905 0.1777082  0.18189105 0.17685661\n",
            " 0.17465247 0.1682154  0.16944271 0.17282405 0.17630557 0.18604884\n",
            " 0.17417658 0.17976205 0.18371947 0.19356293 0.20240451 0.20295554\n",
            " 0.20693801 0.20753914 0.19053225 0.17713212 0.17868503 0.18164058\n",
            " 0.19325589 0.19297567 0.19271307 0.19249585 0.19230001 0.1920996\n",
            " 0.19188131 0.19164427 0.19139564 0.19114606 0.19090612 0.19068448\n",
            " 0.19048706 0.1903168  0.19017428 0.19005813 0.18996556 0.1898931\n",
            " 0.18983681 0.18979309 0.18975838 0.18972968 0.18970439 0.18968053\n",
            " 0.18965656 0.1896314  0.18960434 0.18957491]\n",
            "28 day output [[0.18954293]]\n",
            "29 day input [0.17635567 0.183469   0.18562304 0.18219161 0.18126487 0.17778334\n",
            " 0.18467126 0.18564809 0.19273638 0.19153413 0.19313713 0.19829681\n",
            " 0.19556669 0.19579211 0.19316218 0.20077646 0.19997495 0.19644333\n",
            " 0.20343143 0.20641202 0.20726362 0.21823419 0.2144521  0.21162179\n",
            " 0.21282405 0.20999374 0.20480902 0.20348153 0.20771446 0.20964308\n",
            " 0.21001879 0.21828428 0.21763306 0.2210645  0.21613024 0.21314966\n",
            " 0.21517846 0.21735755 0.21956168 0.21635567 0.22289292 0.22444584\n",
            " 0.22232937 0.21475266 0.21122104 0.18822793 0.18036318 0.18274264\n",
            " 0.17871008 0.17815905 0.1777082  0.18189105 0.17685661 0.17465247\n",
            " 0.1682154  0.16944271 0.17282405 0.17630557 0.18604884 0.17417658\n",
            " 0.17976205 0.18371947 0.19356293 0.20240451 0.20295554 0.20693801\n",
            " 0.20753914 0.19053225 0.17713212 0.17868503 0.18164058 0.19325589\n",
            " 0.19297567 0.19271307 0.19249585 0.19230001 0.1920996  0.19188131\n",
            " 0.19164427 0.19139564 0.19114606 0.19090612 0.19068448 0.19048706\n",
            " 0.1903168  0.19017428 0.19005813 0.18996556 0.1898931  0.18983681\n",
            " 0.18979309 0.18975838 0.18972968 0.18970439 0.18968053 0.18965656\n",
            " 0.1896314  0.18960434 0.18957491 0.18954293]\n",
            "29 day output [[0.18950829]]\n",
            "[[0.19325588643550873], [0.19297567009925842], [0.19271306693553925], [0.19249585270881653], [0.1923000067472458], [0.19209960103034973], [0.19188131392002106], [0.19164426624774933], [0.19139564037322998], [0.19114606082439423], [0.1909061223268509], [0.1906844824552536], [0.1904870569705963], [0.1903167963027954], [0.19017428159713745], [0.1900581270456314], [0.18996556103229523], [0.18989309668540955], [0.18983681499958038], [0.18979309499263763], [0.18975837528705597], [0.18972967565059662], [0.18970438838005066], [0.1896805316209793], [0.1896565556526184], [0.1896314024925232], [0.18960434198379517], [0.18957491219043732], [0.18954293429851532], [0.18950828909873962]]\n"
          ]
        }
      ]
    },
    {
      "cell_type": "code",
      "source": [
        "day_new = np.arange(1, 101)\n",
        "day_pred = np.arange(101, 131)"
      ],
      "metadata": {
        "id": "eEbp4qdh8ySI"
      },
      "execution_count": 50,
      "outputs": []
    },
    {
      "cell_type": "code",
      "source": [
        "import matplotlib.pyplot as plt"
      ],
      "metadata": {
        "id": "yqm2xiPF9E0K"
      },
      "execution_count": 51,
      "outputs": []
    },
    {
      "cell_type": "code",
      "source": [
        "len(df1)"
      ],
      "metadata": {
        "colab": {
          "base_uri": "https://localhost:8080/"
        },
        "id": "S0gA8X3W9KI4",
        "outputId": "554e4cf6-94dc-4da4-b99e-74c0e0ea1e7d"
      },
      "execution_count": 52,
      "outputs": [
        {
          "output_type": "execute_result",
          "data": {
            "text/plain": [
              "1256"
            ]
          },
          "metadata": {},
          "execution_count": 52
        }
      ]
    },
    {
      "cell_type": "code",
      "source": [
        "df3 = df1.tolist()\n",
        "df3.extend(lst_output)"
      ],
      "metadata": {
        "id": "jhaZ9UR4-LdC"
      },
      "execution_count": 59,
      "outputs": []
    },
    {
      "cell_type": "code",
      "source": [
        "plt.plot(day_new, scaler.inverse_transform(df1[1156:]))\n",
        "plt.plot(day_pred, scaler.inverse_transform(lst_output))"
      ],
      "metadata": {
        "colab": {
          "base_uri": "https://localhost:8080/",
          "height": 447
        },
        "id": "57ob5IDN9M1Y",
        "outputId": "1f3be0b1-4743-437b-e36e-f8a930e0660a"
      },
      "execution_count": 77,
      "outputs": [
        {
          "output_type": "execute_result",
          "data": {
            "text/plain": [
              "[<matplotlib.lines.Line2D at 0x7d0ea1554ee0>]"
            ]
          },
          "metadata": {},
          "execution_count": 77
        },
        {
          "output_type": "display_data",
          "data": {
            "text/plain": [
              "<Figure size 640x480 with 1 Axes>"
            ],
            "image/png": "[encoded data removed]"
          },
          "metadata": {}
        }
      ]
    },
    {
      "cell_type": "code",
      "source": [
        "df3 = df1.tolist()\n",
        "df3.extend(lst_output)\n",
        "plt.plot(df3[00:])"
      ],
      "metadata": {
        "colab": {
          "base_uri": "https://localhost:8080/",
          "height": 447
        },
        "id": "8vQs5XAY9hE5",
        "outputId": "81295d9d-e89d-4f62-edf4-b60c61107e88"
      },
      "execution_count": 78,
      "outputs": [
        {
          "output_type": "execute_result",
          "data": {
            "text/plain": [
              "[<matplotlib.lines.Line2D at 0x7d0ea14cd930>]"
            ]
          },
          "metadata": {},
          "execution_count": 78
        },
        {
          "output_type": "display_data",
          "data": {
            "text/plain": [
              "<Figure size 640x480 with 1 Axes>"
            ],
            "image/png": "[encoded data removed]"
          },
          "metadata": {}
        }
      ]
    },
    {
      "cell_type": "code",
      "source": [],
      "metadata": {
        "id": "mcjI2fKm-6yM"
      },
      "execution_count": null,
      "outputs": []
    }
  ],
  "metadata": {
    "colab": {
      "provenance": []
    },
    "kernelspec": {
      "display_name": "Python 3",
      "name": "python3"
    },
    "language_info": {
      "name": "python"
    }
  },
  "nbformat": 4,
  "nbformat_minor": 0
}